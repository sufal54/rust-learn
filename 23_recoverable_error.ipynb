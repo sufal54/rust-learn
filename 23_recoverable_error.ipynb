{
 "cells": [
  {
   "cell_type": "markdown",
   "metadata": {},
   "source": [
    "***Recoverable Errors with Result***\n",
    "\n",
    "Most errors aren’t serious enough to require the program to stop entirely. Sometimes when a function fails it’s for a reason that you can easily interpret and respond to. For example, if you try to open a file and that operation fails because the file doesn’t exist, you might want to create the file instead of terminating the process."
   ]
  },
  {
   "cell_type": "code",
   "execution_count": null,
   "metadata": {},
   "outputs": [],
   "source": [
    "enum Result<T, E> {\n",
    "    Ok(T),\n",
    "    Err(E),\n",
    "}"
   ]
  },
  {
   "cell_type": "code",
   "execution_count": null,
   "metadata": {},
   "outputs": [],
   "source": [
    "use std::fs::File;\n",
    "\n",
    "fn main() {\n",
    "    let greeting_file_result = File::open(\"hello.txt\");\n",
    "}"
   ]
  },
  {
   "cell_type": "code",
   "execution_count": null,
   "metadata": {},
   "outputs": [],
   "source": [
    "use std::fs::File;\n",
    "\n",
    "fn main() {\n",
    "    let greeting_file_result = File::open(\"hello.txt\");\n",
    "\n",
    "    let greeting_file = match greeting_file_result {\n",
    "        Ok(file) => file,\n",
    "        Err(error) => panic!(\"Problem opening the file: {error:?}\"),\n",
    "    };\n",
    "}"
   ]
  },
  {
   "cell_type": "markdown",
   "metadata": {},
   "source": [
    "The code in Listing 9-4 will panic! no matter why File::open failed. However, we want to take different actions for different failure reasons. If File::open failed because the file doesn’t exist, we want to create the file and return the handle to the new file. If File::open failed for any other reason—for example, because we didn’t have permission to open the file—we still want the code to panic! in the same way it did in Listing 9-4. For this, we add an inner match expression, shown in Listing 9-5.\n",
    "\n",
    "Filename: src/main.rs"
   ]
  },
  {
   "cell_type": "code",
   "execution_count": null,
   "metadata": {},
   "outputs": [],
   "source": [
    "use std::fs::File;\n",
    "use std::io::ErrorKind;\n",
    "\n",
    "fn main() {\n",
    "    let greeting_file_result = File::open(\"hello.txt\");\n",
    "\n",
    "    let greeting_file = match greeting_file_result {\n",
    "        Ok(file) => file,\n",
    "        Err(error) => match error.kind() {\n",
    "            ErrorKind::NotFound => match File::create(\"hello.txt\") {\n",
    "                Ok(fc) => fc,\n",
    "                Err(e) => panic!(\"Problem creating the file: {e:?}\"),\n",
    "            },\n",
    "            other_error => {\n",
    "                panic!(\"Problem opening the file: {other_error:?}\");\n",
    "            }\n",
    "        },\n",
    "    };\n",
    "}"
   ]
  },
  {
   "cell_type": "markdown",
   "metadata": {},
   "source": [
    "The condition we want to check in the inner match is whether the value returned by error.kind() is the NotFound variant of the ErrorKind enum. If it is, we try to create the file with File::create. However, because File::create could also fail, we need a second arm in the inner match expression. When the file can’t be created, a different error message is printed. The second arm of the outer match stays the same, so the program panics on any error besides the missing file error."
   ]
  },
  {
   "cell_type": "markdown",
   "metadata": {},
   "source": [
    "***Alternatives to Using match with Result<T, E>***\n",
    "\n",
    "That’s a lot of **match**! The match expression is very useful but also very much a primitive. In Chapter 13, you’ll learn about closures, which are used with many of the methods defined on **Result<T, E>**. These methods can be more concise than using **match** when handling **Result<T, E>** values in your code.\n",
    "\n",
    "For example, here’s another way to write the same logic as shown in Listing 9-5, this time using closures and the **unwrap_or_else** method:"
   ]
  },
  {
   "cell_type": "code",
   "execution_count": null,
   "metadata": {},
   "outputs": [],
   "source": [
    "use std::fs::File;\n",
    "use std::io::ErrorKind;\n",
    "\n",
    "fn main() {\n",
    "    let greeting_file = File::open(\"hello.txt\").unwrap_or_else(|error| {  // Annotation\n",
    "        if error.kind() == ErrorKind::NotFound {\n",
    "            File::create(\"hello.txt\").unwrap_or_else(|error| {\n",
    "                panic!(\"Problem creating the file: {error:?}\");\n",
    "            })\n",
    "        } else {\n",
    "            panic!(\"Problem opening the file: {error:?}\");\n",
    "        }\n",
    "    });\n",
    "}"
   ]
  },
  {
   "cell_type": "code",
   "execution_count": null,
   "metadata": {},
   "outputs": [],
   "source": [
    "use std::fs::File;\n",
    "\n",
    "fn main() {\n",
    "    let greeting_file = File::open(\"hello.txt\").unwrap(); // Eror panic!\n",
    "}"
   ]
  },
  {
   "cell_type": "code",
   "execution_count": null,
   "metadata": {},
   "outputs": [],
   "source": [
    "use std::fs::File;\n",
    "\n",
    "fn main() {\n",
    "    let greeting_file = File::open(\"hello.txt\")\n",
    "        .expect(\"hello.txt should be included in this project\"); // Panic! with message\n",
    "}"
   ]
  },
  {
   "cell_type": "markdown",
   "metadata": {},
   "source": [
    "***Propagating Errors***\n",
    "\n",
    "When a function’s implementation calls something that might fail, instead of handling the error within the function itself you can return the error to the calling code so that it can decide what to do. This is known as propagating the error and gives more control to the calling code, where there might be more information or logic that dictates how the error should be handled than what you have available in the context of your code.\n",
    "\n",
    "For example, Listing 9-6 shows a function that reads a username from a file. If the file doesn’t exist or can’t be read, this function will return those errors to the code that called the function.\n",
    "\n",
    "Filename: src/main.rs"
   ]
  },
  {
   "cell_type": "code",
   "execution_count": null,
   "metadata": {},
   "outputs": [],
   "source": [
    "use std::fs::File;\n",
    "use std::io::{self, Read};\n",
    "\n",
    "fn read_username_from_file() -> Result<String, io::Error> {\n",
    "    let username_file_result = File::open(\"hello.txt\");\n",
    "\n",
    "    let mut username_file = match username_file_result {\n",
    "        Ok(file) => file,\n",
    "        Err(e) => return Err(e),\n",
    "    };\n",
    "\n",
    "    let mut username = String::new();\n",
    "\n",
    "    match username_file.read_to_string(&mut username) {\n",
    "        Ok(_) => Ok(username),\n",
    "        Err(e) => Err(e),\n",
    "    }\n",
    "}"
   ]
  },
  {
   "cell_type": "markdown",
   "metadata": {},
   "source": [
    "***A Shortcut for Propagating Errors: the ? Operator***\n",
    "\n",
    "Listing 9-7 shows an implementation of read_username_from_file that has the same functionality as in Listing 9-6, but this implementation uses the ? operator."
   ]
  },
  {
   "cell_type": "code",
   "execution_count": null,
   "metadata": {},
   "outputs": [],
   "source": [
    "use std::fs::File;\n",
    "use std::io::{self, Read};\n",
    "\n",
    "fn read_username_from_file() -> Result<String, io::Error> {\n",
    "    let mut username_file = File::open(\"hello.txt\")?; // if error ? return result err\n",
    "    let mut username = String::new();\n",
    "    username_file.read_to_string(&mut username)?; // if error ? return result err\n",
    "    Ok(username)\n",
    "}"
   ]
  },
  {
   "cell_type": "code",
   "execution_count": null,
   "metadata": {},
   "outputs": [],
   "source": [
    "use std::fs::File;\n",
    "use std::io::{self, Read};\n",
    "\n",
    "fn read_username_from_file() -> Result<String, io::Error> {\n",
    "    let mut username = String::new();\n",
    "\n",
    "    File::open(\"hello.txt\")?.read_to_string(&mut username)?;\n",
    "\n",
    "    Ok(username)\n",
    "}"
   ]
  },
  {
   "cell_type": "code",
   "execution_count": null,
   "metadata": {},
   "outputs": [],
   "source": [
    "use std::fs;\n",
    "use std::io;\n",
    "\n",
    "fn read_username_from_file() -> Result<String, io::Error> {\n",
    "    fs::read_to_string(\"hello.txt\") // expression return error or ok\n",
    "}"
   ]
  },
  {
   "cell_type": "markdown",
   "metadata": {},
   "source": [
    "***Where The ? Operator Can Be Used***\n",
    "\n",
    "The ? operator can only be used in functions whose return type is compatible with the value the ? is used on. This is because the ? operator is defined to perform an early return of a value out of the function, in the same manner as the match expression we defined in Listing 9-6. In Listing 9-6, the match was using a Result value, and the early return arm returned an Err(e) value. The return type of the function has to be a Result so that it’s compatible with this return.\n",
    "\n",
    "In Listing 9-10, let’s look at the error we’ll get if we use the ? operator in a main function with a return type that is incompatible with the type of the value we use ? on.\n",
    "\n",
    "Filename: src/main.rs"
   ]
  },
  {
   "cell_type": "code",
   "execution_count": null,
   "metadata": {},
   "outputs": [],
   "source": [
    "use std::fs::File;\n",
    "\n",
    "fn main() {\n",
    "    let greeting_file = File::open(\"hello.txt\")?;\n",
    "}"
   ]
  },
  {
   "cell_type": "markdown",
   "metadata": {},
   "source": [
    "This code opens a file, which might fail. The ? operator follows the Result value returned by File::open, but this main function has the return type of (), not Result. When we compile this code, we get the following error message\n",
    "\n",
    "This error points out that we’re only allowed to use the ? operator in a function that returns Result, Option, or another type that implements FromResidual."
   ]
  },
  {
   "cell_type": "code",
   "execution_count": null,
   "metadata": {},
   "outputs": [],
   "source": [
    "fn last_char_of_first_line(text: &str) -> Option<char> {\n",
    "    text.lines().next()?.chars().last()\n",
    "}"
   ]
  },
  {
   "cell_type": "code",
   "execution_count": null,
   "metadata": {},
   "outputs": [],
   "source": [
    "use std::error::Error;\n",
    "use std::fs::File;\n",
    "\n",
    "fn main() -> Result<(), Box<dyn Error>> {\n",
    "    let greeting_file = File::open(\"hello.txt\")?;\n",
    "\n",
    "    Ok(())\n",
    "}"
   ]
  }
 ],
 "metadata": {
  "kernelspec": {
   "display_name": "Rust",
   "language": "rust",
   "name": "rust"
  },
  "language_info": {
   "name": "rust"
  }
 },
 "nbformat": 4,
 "nbformat_minor": 2
}
