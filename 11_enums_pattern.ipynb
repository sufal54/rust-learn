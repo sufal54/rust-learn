{
 "cells": [
  {
   "cell_type": "markdown",
   "metadata": {},
   "source": [
    "***Defining an Enum***\n",
    "\n",
    "Where structs give you a way of grouping together related fields and data, like a Rectangle with its width and height, enums give you a way of saying a value is one of a possible set of values. For example, we may want to say that Rectangle is one of a set of possible shapes that also includes Circle and Triangle. To do this, Rust allows us to encode these possibilities as an enum.\n",
    "\n",
    "Let’s look at a situation we might want to express in code and see why enums are useful and more appropriate than structs in this case. Say we need to work with IP addresses. Currently, two major standards are used for IP addresses: version four and version six. Because these are the only possibilities for an IP address that our program will come across, we can enumerate all possible variants, which is where enumeration gets its name.\n",
    "\n",
    "Any IP address can be either a version four or a version six address, but not both at the same time. That property of IP addresses makes the enum data structure appropriate because an enum value can only be one of its variants. Both version four and version six addresses are still fundamentally IP addresses, so they should be treated as the same type when the code is handling situations that apply to any kind of IP address."
   ]
  },
  {
   "cell_type": "code",
   "execution_count": null,
   "metadata": {},
   "outputs": [],
   "source": [
    "enum IpAddrKind {\n",
    "    V4,\n",
    "    V6,\n",
    "}"
   ]
  },
  {
   "cell_type": "markdown",
   "metadata": {},
   "source": [
    "***Enum Values***\n",
    "\n",
    "We can create instances of each of the two variants of IpAddrKind like this:"
   ]
  },
  {
   "cell_type": "code",
   "execution_count": null,
   "metadata": {},
   "outputs": [],
   "source": [
    "let four = IpAddrKind::V4;\n",
    "let six = IpAddrKind::V6;"
   ]
  },
  {
   "cell_type": "code",
   "execution_count": null,
   "metadata": {},
   "outputs": [],
   "source": [
    "enum IpAddrKind {\n",
    "    V4,\n",
    "    V6,\n",
    "}\n",
    "struct IpAddr {\n",
    "    kind: IpAddrKind,\n",
    "    address: String,\n",
    "}\n",
    "let home = IpAddr {\n",
    "    kind: IpAddrKind::V4,\n",
    "    address: String::from(\"127.0.0.1\"),\n",
    "};\n",
    "let loopback = IpAddr {\n",
    "    kind: IpAddrKind::V6,\n",
    "    address: String::from(\"::1\"),\n",
    "};"
   ]
  },
  {
   "cell_type": "code",
   "execution_count": null,
   "metadata": {},
   "outputs": [],
   "source": [
    "enum IpAddr {\n",
    "    V4(String),\n",
    "    V6(String),\n",
    "}\n",
    "let home = IpAddr::V4(String::from(\"127.0.0.1\"));\n",
    "let loopback = IpAddr::V6(String::from(\"::1\"));"
   ]
  },
  {
   "cell_type": "code",
   "execution_count": null,
   "metadata": {},
   "outputs": [],
   "source": [
    "enum IpAddr {\n",
    "    V4(u8, u8, u8, u8),\n",
    "    V6(String),\n",
    "}\n",
    "let home = IpAddr::V4(127, 0, 0, 1);\n",
    "let loopback = IpAddr::V6(String::from(\"::1\"));"
   ]
  },
  {
   "cell_type": "code",
   "execution_count": null,
   "metadata": {},
   "outputs": [],
   "source": [
    "struct Ipv4Addr {\n",
    "    // --snip--\n",
    "}\n",
    "struct Ipv6Addr {\n",
    "    // --snip--\n",
    "}\n",
    "enum IpAddr {\n",
    "    V4(Ipv4Addr),\n",
    "    V6(Ipv6Addr),\n",
    "}"
   ]
  },
  {
   "cell_type": "code",
   "execution_count": null,
   "metadata": {},
   "outputs": [],
   "source": [
    "enum Message {\n",
    "    Quit,\n",
    "    Move { x: i32, y: i32 },\n",
    "    Write(String),\n",
    "    ChangeColor(i32, i32, i32),\n",
    "}"
   ]
  },
  {
   "cell_type": "code",
   "execution_count": null,
   "metadata": {},
   "outputs": [],
   "source": [
    "// enum Option<T> {\n",
    "//     None,\n",
    "//     Some(T),\n",
    "// }\n",
    "let some_number = Some(5);\n",
    "let some_char = Some('e');\n",
    "let absent_number: Option<i32> = None;"
   ]
  },
  {
   "cell_type": "code",
   "execution_count": null,
   "metadata": {},
   "outputs": [],
   "source": [
    "let x: i8 = 5;\n",
    "let y: Option<i8> = Some(5);//error\n",
    "let sum = x + y;"
   ]
  }
 ],
 "metadata": {
  "kernelspec": {
   "display_name": "Rust",
   "language": "rust",
   "name": "rust"
  },
  "language_info": {
   "name": "rust"
  }
 },
 "nbformat": 4,
 "nbformat_minor": 2
}
