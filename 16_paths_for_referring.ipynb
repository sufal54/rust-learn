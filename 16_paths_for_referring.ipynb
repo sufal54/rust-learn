{
 "cells": [
  {
   "cell_type": "markdown",
   "metadata": {},
   "source": [
    "***Paths for Referring to an Item in the Module Tree***\n",
    "\n",
    "To show Rust where to find an item in a module tree, we use a path in the same way we use a path when navigating a filesystem. To call a function, we need to know its path.\n",
    "\n",
    "A path can take two forms:\n",
    "\n",
    "* An absolute path is the full path starting from a crate root; for code from an external crate, the absolute path begins with the crate name, and for code from the current crate, it starts with the literal crate.\n",
    "* A relative path starts from the current module and uses self, super, or an identifier in the current module.\n",
    "\n",
    "Both absolute and relative paths are followed by one or more identifiers separated by double colons (::).\n",
    "\n",
    "Returning to Listing 7-1, say we want to call the add_to_waitlist function. This is the same as asking: what’s the path of the add_to_waitlist function? Listing 7-3 contains Listing 7-1 with some of the modules and functions removed.\n",
    "\n",
    "We’ll show two ways to call the add_to_waitlist function from a new function, eat_at_restaurant, defined in the crate root. These paths are correct, but there’s another problem remaining that will prevent this example from compiling as is. We’ll explain why in a bit.\n",
    "\n",
    "The eat_at_restaurant function is part of our library crate’s public API, so we mark it with the pub keyword. In the “Exposing Paths with the pub Keyword” section, we’ll go into more detail about pub.\n",
    "\n",
    "Filename: src/lib.rs"
   ]
  },
  {
   "cell_type": "code",
   "execution_count": null,
   "metadata": {},
   "outputs": [],
   "source": [
    "mod front_of_house {\n",
    "    mod hosting {\n",
    "        fn add_to_waitlist() {}\n",
    "    }\n",
    "}\n",
    "pub fn eat_at_restaurant() {\n",
    "    // Absolute path\n",
    "    crate::front_of_house::hosting::add_to_waitlist(); \n",
    "    // error by Default everything is private we need to public it\n",
    "\n",
    "    // Relative path\n",
    "    front_of_house::hosting::add_to_waitlist();\n",
    "}"
   ]
  },
  {
   "cell_type": "code",
   "execution_count": null,
   "metadata": {},
   "outputs": [],
   "source": [
    "mod front_of_house {\n",
    "    pub mod hosting {\n",
    "        // we need to make pub \n",
    "        // fn add_to_waitlist() {} \n",
    "        pub fn add_to_waitlist() {}\n",
    "    }\n",
    "}\n",
    "pub fn eat_at_restaurant() {\n",
    "    // Absolute path\n",
    "    crate::front_of_house::hosting::add_to_waitlist();\n",
    "\n",
    "    // Relative path\n",
    "    front_of_house::hosting::add_to_waitlist();\n",
    "}"
   ]
  },
  {
   "cell_type": "markdown",
   "metadata": {},
   "source": [
    "\n",
    "***Best Practices for Packages with a Binary and a Library***\n",
    "\n",
    "We mentioned that a package can contain both a src/main.rs binary crate root as well as a src/lib.rs library crate root, and both crates will have the package name by default. Typically, packages with this pattern of containing both a library and a binary crate will have just enough code in the binary crate to start an executable that calls code within the library crate. This lets other projects benefit from most of the functionality that the package provides because the library crate’s code can be shared.\n",
    "\n",
    "The module tree should be defined in src/lib.rs. Then, any public items can be used in the binary crate by starting paths with the name of the package. The binary crate becomes a user of the library crate just like a completely external crate would use the library crate: it can only use the public API. This helps you design a good API; not only are you the author, you’re also a client!\n",
    "\n",
    "In Chapter 12, we’ll demonstrate this organizational practice with a command-line program that will contain both a binary crate and a library crate."
   ]
  },
  {
   "cell_type": "markdown",
   "metadata": {},
   "source": [
    "***Starting Relative Paths with super***\n",
    "\n",
    "We can construct relative paths that begin in the parent module, rather than the current module or the crate root, by using super at the start of the path. This is like starting a filesystem path with the .. syntax. Using super allows us to reference an item that we know is in the parent module, which can make rearranging the module tree easier when the module is closely related to the parent but the parent might be moved elsewhere in the module tree someday.\n",
    "\n",
    "Consider the code in Listing 7-8 that models the situation in which a chef fixes an incorrect order and personally brings it out to the customer. The function fix_incorrect_order defined in the back_of_house module calls the function deliver_order defined in the parent module by specifying the path to deliver_order, starting with super."
   ]
  },
  {
   "cell_type": "code",
   "execution_count": null,
   "metadata": {},
   "outputs": [],
   "source": [
    "fn deliver_order() {}\n",
    "\n",
    "mod back_of_house {\n",
    "    fn fix_incorrect_order() {\n",
    "        cook_order();\n",
    "        super::deliver_order();\n",
    "    }\n",
    "    fn cook_order() {}\n",
    "}"
   ]
  },
  {
   "cell_type": "markdown",
   "metadata": {},
   "source": [
    "***Making Structs and Enums Public***\n",
    "\n",
    "We can also use pub to designate structs and enums as public, but there are a few extra details to the usage of pub with structs and enums. If we use pub before a struct definition, we make the struct public, but the struct’s fields will still be private. We can make each field public or not on a case-by-case basis. In Listing 7-9, we’ve defined a public back_of_house::Breakfast struct with a public toast field but a private seasonal_fruit field. This models the case in a restaurant where the customer can pick the type of bread that comes with a meal, but the chef decides which fruit accompanies the meal based on what’s in season and in stock. The available fruit changes quickly, so customers can’t choose the fruit or even see which fruit they’ll get.\n",
    "\n",
    "Filename: src/lib.rs"
   ]
  },
  {
   "cell_type": "code",
   "execution_count": null,
   "metadata": {},
   "outputs": [],
   "source": [
    "mod back_of_house {\n",
    "    pub struct Breakfast {\n",
    "        pub toast: String,\n",
    "        seasonal_fruit: String,\n",
    "    }\n",
    "\n",
    "    impl Breakfast {\n",
    "        pub fn summer(toast: &str) -> Breakfast {\n",
    "            Breakfast {\n",
    "                toast: String::from(toast),\n",
    "                seasonal_fruit: String::from(\"peaches\"),\n",
    "            }\n",
    "        }\n",
    "    }\n",
    "}\n",
    "\n",
    "pub fn eat_at_restaurant() {\n",
    "    // Order a breakfast in the summer with Rye toast\n",
    "    let mut meal = back_of_house::Breakfast::summer(\"Rye\");\n",
    "    // Change our mind about what bread we'd like\n",
    "    meal.toast = String::from(\"Wheat\");\n",
    "    println!(\"I'd like {} toast please\", meal.toast);\n",
    "\n",
    "    // The next line won't compile if we uncomment it; we're not allowed\n",
    "    // to see or modify the seasonal fruit that comes with the meal\n",
    "    // meal.seasonal_fruit = String::from(\"blueberries\");\n",
    "}"
   ]
  },
  {
   "cell_type": "markdown",
   "metadata": {},
   "source": [
    "Because the toast field in the back_of_house::Breakfast struct is public, in eat_at_restaurant we can write and read to the toast field using dot notation. Notice that we can’t use the seasonal_fruit field in eat_at_restaurant, because seasonal_fruit is private. Try uncommenting the line modifying the seasonal_fruit field value to see what error you get!\n",
    "\n",
    "Also, note that because back_of_house::Breakfast has a private field, the struct needs to provide a public associated function that constructs an instance of Breakfast (we’ve named it summer here). If Breakfast didn’t have such a function, we couldn’t create an instance of Breakfast in eat_at_restaurant because we couldn’t set the value of the private seasonal_fruit field in eat_at_restaurant.\n",
    "\n",
    "In contrast, if we make an enum public, all of its variants are then public. We only need the pub before the enum keyword, as shown in Listing 7-10.\n",
    "\n",
    "Filename: src/lib.rs"
   ]
  },
  {
   "cell_type": "code",
   "execution_count": null,
   "metadata": {},
   "outputs": [],
   "source": [
    "mod back_of_house {\n",
    "    pub enum Appetizer {\n",
    "        Soup,\n",
    "        Salad,\n",
    "    }\n",
    "}\n",
    "\n",
    "pub fn eat_at_restaurant() {\n",
    "    let order1 = back_of_house::Appetizer::Soup;\n",
    "    let order2 = back_of_house::Appetizer::Salad;\n",
    "}"
   ]
  }
 ],
 "metadata": {
  "kernelspec": {
   "display_name": "Rust",
   "language": "rust",
   "name": "rust"
  },
  "language_info": {
   "name": "rust"
  }
 },
 "nbformat": 4,
 "nbformat_minor": 2
}
