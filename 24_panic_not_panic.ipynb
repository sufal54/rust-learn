{
 "cells": [
  {
   "cell_type": "markdown",
   "metadata": {},
   "source": [
    "***To panic! or Not to panic!***\n",
    "\n",
    "So how do you decide when you should call panic! and when you should return Result? When code panics, there’s no way to recover. You could call panic! for any error situation, whether there’s a possible way to recover or not, but then you’re making the decision that a situation is unrecoverable on behalf of the calling code. When you choose to return a Result value, you give the calling code options. The calling code could choose to attempt to recover in a way that’s appropriate for its situation, or it could decide that an Err value in this case is unrecoverable, so it can call panic! and turn your recoverable error into an unrecoverable one. Therefore, returning Result is a good default choice when you’re defining a function that might fail."
   ]
  },
  {
   "cell_type": "code",
   "execution_count": null,
   "metadata": {},
   "outputs": [],
   "source": [
    "    use std::net::IpAddr;\n",
    "\n",
    "    let home: IpAddr = \"127.0.0.1\"\n",
    "        .parse()\n",
    "        .expect(\"Hardcoded IP address should be valid\");"
   ]
  },
  {
   "cell_type": "code",
   "execution_count": null,
   "metadata": {},
   "outputs": [],
   "source": [
    "loop {\n",
    "    // --snip--\n",
    "\n",
    "    let guess: i32 = match guess.trim().parse() {\n",
    "        Ok(num) => num,\n",
    "        Err(_) => continue,\n",
    "    };\n",
    "\n",
    "    if guess < 1 || guess > 100 {\n",
    "        println!(\"The secret number will be between 1 and 100.\");\n",
    "        continue;\n",
    "    }\n",
    "\n",
    "    match guess.cmp(&secret_number) {\n",
    "        // --snip--\n",
    "}"
   ]
  },
  {
   "cell_type": "code",
   "execution_count": null,
   "metadata": {},
   "outputs": [],
   "source": [
    "pub struct Guess {\n",
    "    value: i32,\n",
    "}\n",
    "\n",
    "impl Guess {\n",
    "    pub fn new(value: i32) -> Guess {\n",
    "        if value < 1 || value > 100 {\n",
    "            panic!(\"Guess value must be between 1 and 100, got {value}.\");\n",
    "        }\n",
    "\n",
    "        Guess { value }\n",
    "    }\n",
    "\n",
    "    pub fn value(&self) -> i32 {\n",
    "        self.value\n",
    "    }\n",
    "}"
   ]
  }
 ],
 "metadata": {
  "kernelspec": {
   "display_name": "Rust",
   "language": "rust",
   "name": "rust"
  },
  "language_info": {
   "name": "rust"
  }
 },
 "nbformat": 4,
 "nbformat_minor": 2
}
