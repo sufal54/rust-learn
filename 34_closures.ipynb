{
 "cells": [
  {
   "cell_type": "markdown",
   "metadata": {},
   "source": [
    "***Closures: Anonymous Functions that Capture Their Environment***\n",
    "\n",
    "Rust’s closures are anonymous functions you can save in a variable or pass as arguments to other functions. You can create the closure in one place and then call the closure elsewhere to evaluate it in a different context. Unlike functions, closures can capture values from the scope in which they’re defined. We’ll demonstrate how these closure features allow for code reuse and behavior customization."
   ]
  },
  {
   "cell_type": "markdown",
   "metadata": {},
   "source": [
    "***Capturing the Environment with Closures***\n",
    "\n",
    "We’ll first examine how we can use closures to capture values from the environment they’re defined in for later use. Here’s the scenario: Every so often, our t-shirt company gives away an exclusive, limited-edition shirt to someone on our mailing list as a promotion. People on the mailing list can optionally add their favorite color to their profile. If the person chosen for a free shirt has their favorite color set, they get that color shirt. If the person hasn’t specified a favorite color, they get whatever color the company currently has the most of.\n",
    "\n",
    "There are many ways to implement this. For this example, we’re going to use an enum called **ShirtColor** that has the variants **Red** and **Blue** (limiting the number of colors available for simplicity). We represent the company’s inventory with an **Inventory** struct that has a field named shirts that contains a **Vec<ShirtColor>** representing the shirt colors currently in stock. The method **giveaway** defined on **Inventory** gets the optional shirt color preference of the free shirt winner, and returns the shirt color the person will get. This setup is shown in Listing 13-1:\n",
    "Filename: src/main.rs"
   ]
  },
  {
   "cell_type": "code",
   "execution_count": null,
   "metadata": {},
   "outputs": [],
   "source": [
    "#[derive(Debug, PartialEq, Copy, Clone)]\n",
    "enum ShirtColor {\n",
    "    Red,\n",
    "    Blue,\n",
    "}\n",
    "\n",
    "struct Inventory {\n",
    "    shirts: Vec<ShirtColor>,\n",
    "}\n",
    "\n",
    "impl Inventory {\n",
    "    fn giveaway(&self, user_preference: Option<ShirtColor>) -> ShirtColor {\n",
    "        user_preference.unwrap_or_else(|| self.most_stocked()) // closure\n",
    "    }\n",
    "\n",
    "    fn most_stocked(&self) -> ShirtColor {\n",
    "        let mut num_red = 0;\n",
    "        let mut num_blue = 0;\n",
    "\n",
    "        for color in &self.shirts {\n",
    "            match color {\n",
    "                ShirtColor::Red => num_red += 1,\n",
    "                ShirtColor::Blue => num_blue += 1,\n",
    "            }\n",
    "        }\n",
    "        if num_red > num_blue {\n",
    "            ShirtColor::Red\n",
    "        } else {\n",
    "            ShirtColor::Blue\n",
    "        }\n",
    "    }\n",
    "}\n",
    "\n",
    "fn main() {\n",
    "    let store = Inventory {\n",
    "        shirts: vec![ShirtColor::Blue, ShirtColor::Red, ShirtColor::Blue],\n",
    "    };\n",
    "\n",
    "    let user_pref1 = Some(ShirtColor::Red);\n",
    "    let giveaway1 = store.giveaway(user_pref1);\n",
    "    println!(\n",
    "        \"The user with preference {:?} gets {:?}\",\n",
    "        user_pref1, giveaway1\n",
    "    );\n",
    "\n",
    "    let user_pref2 = None;\n",
    "    let giveaway2 = store.giveaway(user_pref2);\n",
    "    println!(\n",
    "        \"The user with preference {:?} gets {:?}\",\n",
    "        user_pref2, giveaway2\n",
    "    );\n",
    "}"
   ]
  },
  {
   "cell_type": "markdown",
   "metadata": {},
   "source": [
    "***Closure Type Inference and Annotation***\n",
    "\n",
    "There are more differences between functions and closures. Closures don’t usually require you to annotate the types of the parameters or the return value like fn functions do. Type annotations are required on functions because the types are part of an explicit interface exposed to your users. Defining this interface rigidly is important for ensuring that everyone agrees on what types of values a function uses and returns. Closures, on the other hand, aren’t used in an exposed interface like this: they’re stored in variables and used without naming them and exposing them to users of our library.\n",
    "\n",
    "Closures are typically short and relevant only within a narrow context rather than in any arbitrary scenario. Within these limited contexts, the compiler can infer the types of the parameters and the return type, similar to how it’s able to infer the types of most variables (there are rare cases where the compiler needs closure type annotations too).\n",
    "\n",
    "As with variables, we can add type annotations if we want to increase explicitness and clarity at the cost of being more verbose than is strictly necessary. Annotating the types for a closure would look like the definition shown in Listing 13-2. In this example, we’re defining a closure and storing it in a variable rather than defining the closure in the spot we pass it as an argument as we did in Listing 13-1.\n",
    "Filename: src/main.rs"
   ]
  },
  {
   "cell_type": "code",
   "execution_count": null,
   "metadata": {},
   "outputs": [],
   "source": [
    "let expensive_closure = |num: u32| -> u32 {\n",
    "    println!(\"calculating slowly...\");\n",
    "    thread::sleep(Duration::from_secs(2));\n",
    "    num\n",
    "};"
   ]
  },
  {
   "cell_type": "code",
   "execution_count": null,
   "metadata": {},
   "outputs": [],
   "source": [
    "fn  add_one_v1   (x: u32) -> u32 { x + 1 }\n",
    "let add_one_v2 = |x: u32| -> u32 { x + 1 };\n",
    "let add_one_v3 = |x|             { x + 1 };\n",
    "let add_one_v4 = |x|               x + 1  ;"
   ]
  },
  {
   "cell_type": "code",
   "execution_count": null,
   "metadata": {},
   "outputs": [],
   "source": [
    "// Error\n",
    "let example_closure = |x| x;\n",
    "\n",
    "let s = example_closure(String::from(\"hello\"));\n",
    "let n = example_closure(5);"
   ]
  },
  {
   "cell_type": "markdown",
   "metadata": {},
   "source": [
    "The first time we call example_closure with the String value, the compiler infers the type of x and the return type of the closure to be String. Those types are then locked into the closure in example_closure, and we get a type error when we next try to use a different type with the same closure."
   ]
  },
  {
   "cell_type": "markdown",
   "metadata": {},
   "source": [
    "***Capturing References or Moving Ownership***\n",
    "\n",
    "Closures can capture values from their environment in three ways, which directly map to the three ways a function can take a parameter: borrowing immutably, borrowing mutably, and taking ownership. The closure will decide which of these to use based on what the body of the function does with the captured values.\n",
    "\n",
    "In Listing 13-4, we define a closure that captures an immutable reference to the vector named list because it only needs an immutable reference to print the value:\n",
    "Filename: src/main.rs"
   ]
  },
  {
   "cell_type": "code",
   "execution_count": null,
   "metadata": {},
   "outputs": [],
   "source": [
    "fn main() {\n",
    "    let list = vec![1, 2, 3];\n",
    "    println!(\"Before defining closure: {list:?}\");\n",
    "\n",
    "    let only_borrows = || println!(\"From closure: {list:?}\");\n",
    "\n",
    "    println!(\"Before calling closure: {list:?}\");\n",
    "    only_borrows();\n",
    "    println!(\"After calling closure: {list:?}\");\n",
    "}"
   ]
  },
  {
   "cell_type": "code",
   "execution_count": null,
   "metadata": {},
   "outputs": [],
   "source": [
    "fn main() {\n",
    "    let mut list = vec![1, 2, 3];\n",
    "    println!(\"Before defining closure: {list:?}\"); // [1, 2, 3]\n",
    "\n",
    "    let mut borrows_mutably = || list.push(7);\n",
    "\n",
    "    borrows_mutably();\n",
    "    println!(\"After calling closure: {list:?}\"); // [1, 2, 3, 7]\n",
    "}"
   ]
  }
 ],
 "metadata": {
  "kernelspec": {
   "display_name": "Rust",
   "language": "rust",
   "name": "rust"
  },
  "language_info": {
   "name": "rust"
  }
 },
 "nbformat": 4,
 "nbformat_minor": 2
}
