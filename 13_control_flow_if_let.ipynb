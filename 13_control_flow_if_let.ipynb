{
 "cells": [
  {
   "cell_type": "markdown",
   "metadata": {},
   "source": [
    "***Concise Control Flow with if let***\n",
    "\n",
    "The if let syntax lets you combine if and let into a less verbose way to handle values that match one pattern while ignoring the rest. Consider the program in Listing 6-6 that matches on an Option<u8> value in the config_max variable but only wants to execute code if the value is the Some variant."
   ]
  },
  {
   "cell_type": "code",
   "execution_count": null,
   "metadata": {},
   "outputs": [],
   "source": [
    "    let config_max = Some(3u8);\n",
    "    match config_max {\n",
    "        Some(max) => println!(\"The maximum is configured to be {max}\"),\n",
    "        _ => (),\n",
    "    }"
   ]
  },
  {
   "cell_type": "markdown",
   "metadata": {},
   "source": [
    "If the value is Some, we print out the value in the Some variant by binding the value to the variable max in the pattern. We don’t want to do anything with the None value. To satisfy the match expression, we have to add _ => () after processing just one variant, which is annoying boilerplate code to add.\n",
    "\n",
    "Instead, we could write this in a shorter way using if let. The following code behaves the same as the match in"
   ]
  },
  {
   "cell_type": "code",
   "execution_count": null,
   "metadata": {},
   "outputs": [],
   "source": [
    "let config_max = Some(3u8);\n",
    "if let Some(max) = config_max {\n",
    "    println!(\"The maximum is configured to be {max}\");\n",
    "}"
   ]
  },
  {
   "cell_type": "code",
   "execution_count": null,
   "metadata": {},
   "outputs": [],
   "source": [
    "let mut count = 0;\n",
    "match coin {\n",
    "    Coin::Quarter(state) => println!(\"State quarter from {state:?}!\"),\n",
    "    _ => count += 1,\n",
    "}"
   ]
  },
  {
   "cell_type": "code",
   "execution_count": null,
   "metadata": {},
   "outputs": [],
   "source": [
    "let mut count = 0;\n",
    "if let Coin::Quarter(state) = coin {\n",
    "    println!(\"State quarter from {state:?}!\");\n",
    "} else {\n",
    "    count += 1;\n",
    "}"
   ]
  }
 ],
 "metadata": {
  "kernelspec": {
   "display_name": "Rust",
   "language": "rust",
   "name": "rust"
  },
  "language_info": {
   "codemirror_mode": "rust",
   "file_extension": ".rs",
   "mimetype": "text/rust",
   "name": "rust",
   "pygment_lexer": "rust",
   "version": ""
  }
 },
 "nbformat": 4,
 "nbformat_minor": 2
}
