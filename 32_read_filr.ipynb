{
 "cells": [
  {
   "cell_type": "markdown",
   "metadata": {},
   "source": [
    "***Reading a File***\n",
    "\n",
    "Now we’ll add functionality to read the file specified in the file_path argument. First we need a sample file to test it with: we’ll use a file with a small amount of text over multiple lines with some repeated words. Listing 12-3 has an Emily Dickinson poem that will work well! Create a file called poem.txt at the root level of your project, and enter the poem “I’m Nobody! Who are you?”\n",
    "\n",
    "Filename: poem.txt"
   ]
  },
  {
   "cell_type": "markdown",
   "metadata": {},
   "source": [
    "I'm nobody! Who are you?\n",
    "Are you nobody, too?\n",
    "Then there's a pair of us - don't tell!\n",
    "They'd banish us, you know.\n",
    "\n",
    "How dreary to be somebody!\n",
    "How public, like a frog\n",
    "To tell your name the livelong day\n",
    "To an admiring bog!"
   ]
  },
  {
   "cell_type": "code",
   "execution_count": null,
   "metadata": {},
   "outputs": [],
   "source": [
    "use std::env;\n",
    "use std::fs;\n",
    "\n",
    "fn main() {\n",
    "    // --snip--\n",
    "    println!(\"In file {file_path}\");\n",
    "\n",
    "    let contents = fs::read_to_string(file_path)\n",
    "        .expect(\"Should have been able to read the file\");\n",
    "    // fs::read_to_string(path) returns std::io::Result<String>\n",
    "    println!(\"With text:\\n{contents}\");\n",
    "}\n",
    "// $ cargo run -- the poem.txt"
   ]
  }
 ],
 "metadata": {
  "kernelspec": {
   "display_name": "Rust",
   "language": "rust",
   "name": "rust"
  },
  "language_info": {
   "name": "rust"
  }
 },
 "nbformat": 4,
 "nbformat_minor": 2
}
