{
 "cells": [
  {
   "cell_type": "markdown",
   "metadata": {},
   "source": [
    "**The Slice Type**\n",
    "\n",
    "Slices let you reference a contiguous sequence of elements in a collection rather than the whole collection. A slice is a kind of reference, so it does not have ownership.\n",
    "\n",
    "Here’s a small programming problem: write a function that takes a string of words separated by spaces and returns the first word it finds in that string. If the function doesn’t find a space in the string, the whole string must be one word, so the entire string should be returned."
   ]
  },
  {
   "cell_type": "code",
   "execution_count": null,
   "metadata": {},
   "outputs": [],
   "source": [
    "fn first_word(s: &String) -> usize {\n",
    "let bytes = s.as_bytes();\n",
    "for (i, &item) in bytes.iter().enumerate() {\n",
    "    if item == b' ' {\n",
    "        return i;\n",
    "    }\n",
    "}\n",
    "s.len()\n",
    "}"
   ]
  },
  {
   "cell_type": "code",
   "execution_count": null,
   "metadata": {},
   "outputs": [],
   "source": [
    "fn main() {\n",
    "    let mut s = String::from(\"hello world\");\n",
    "    let word = first_word(&s); // word will get the value 5\n",
    "    s.clear(); // this empties the String, making it equal to \"\"\n",
    "    // word still has the value 5 here, but there's no more string that\n",
    "    // we could meaningfully use the value 5 with. word is now totally invalid!\n",
    "}"
   ]
  },
  {
   "cell_type": "markdown",
   "metadata": {},
   "source": [
    "**String Slices**\n",
    "\n",
    "A string slice is a reference to part of a String, and it looks like this:"
   ]
  },
  {
   "cell_type": "code",
   "execution_count": null,
   "metadata": {},
   "outputs": [],
   "source": [
    "let s = String::from(\"hello world\");\n",
    "let hello = &s[0..5]; //&s[st,ed] ed is exclude\n",
    "let world = &s[6..11];"
   ]
  },
  {
   "cell_type": "code",
   "execution_count": null,
   "metadata": {},
   "outputs": [],
   "source": [
    "let s = String::from(\"hello\");\n",
    "let slice = &s[0..2];\n",
    "let slice = &s[..2];"
   ]
  },
  {
   "cell_type": "code",
   "execution_count": null,
   "metadata": {},
   "outputs": [],
   "source": [
    "let s = String::from(\"hello\");\n",
    "let len = s.len();\n",
    "let slice = &s[3..len];\n",
    "let slice = &s[3..];"
   ]
  },
  {
   "cell_type": "code",
   "execution_count": null,
   "metadata": {},
   "outputs": [],
   "source": [
    "let s = String::from(\"hello\");\n",
    "let len = s.len();\n",
    "let slice = &s[0..len];\n",
    "let slice = &s[..];"
   ]
  },
  {
   "cell_type": "code",
   "execution_count": null,
   "metadata": {},
   "outputs": [],
   "source": [
    "fn first_word(s: &String) -> &str {\n",
    "    let bytes = s.as_bytes();\n",
    "    for (i, &item) in bytes.iter().enumerate() {\n",
    "        if item == b' ' {\n",
    "            return &s[0..i];\n",
    "        }\n",
    "    }\n",
    "    &s[..]\n",
    "}"
   ]
  },
  {
   "cell_type": "code",
   "execution_count": null,
   "metadata": {},
   "outputs": [],
   "source": [
    "fn main() {\n",
    "    let my_string = String::from(\"hello world\");\n",
    "\n",
    "    // `first_word` works on slices of `String`s, whether partial or whole\n",
    "    let word = first_word(&my_string[0..6]);\n",
    "    let word = first_word(&my_string[..]);\n",
    "    // `first_word` also works on references to `String`s, which are equivalent\n",
    "    // to whole slices of `String`s\n",
    "    let word = first_word(&my_string);\n",
    "\n",
    "    let my_string_literal = \"hello world\";\n",
    "\n",
    "    // `first_word` works on slices of string literals, whether partial or whole\n",
    "    let word = first_word(&my_string_literal[0..6]);\n",
    "    let word = first_word(&my_string_literal[..]);\n",
    "\n",
    "    // Because string literals *are* string slices already,\n",
    "    // this works too, without the slice syntax!\n",
    "    let word = first_word(my_string_literal);\n",
    "}"
   ]
  },
  {
   "cell_type": "markdown",
   "metadata": {},
   "source": [
    "**Other Slices**\n",
    "\n",
    "String slices, as you might imagine, are specific to strings. But there’s a more general slice type too. Consider this array:"
   ]
  },
  {
   "cell_type": "code",
   "execution_count": null,
   "metadata": {},
   "outputs": [],
   "source": [
    "let a = [1, 2, 3, 4, 5];\n",
    "let slice = &a[1..3];\n",
    "assert_eq!(slice, &[2, 3]);"
   ]
  }
 ],
 "metadata": {
  "kernelspec": {
   "display_name": "Rust",
   "language": "rust",
   "name": "rust"
  },
  "language_info": {
   "name": "rust"
  }
 },
 "nbformat": 4,
 "nbformat_minor": 2
}
