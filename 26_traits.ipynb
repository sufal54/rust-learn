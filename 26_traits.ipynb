{
 "cells": [
  {
   "cell_type": "markdown",
   "metadata": {},
   "source": [
    "***Traits: Defining Shared Behavior***\n",
    "\n",
    "A trait defines the functionality a particular type has and can share with other types. We can use traits to define shared behavior in an abstract way. We can use trait bounds to specify that a generic type can be any type that has certain behavior.\n",
    "\n",
    "**Note**: Traits are similar to a feature often called interfaces in other languages, although with some differences."
   ]
  },
  {
   "cell_type": "markdown",
   "metadata": {},
   "source": [
    "***Defining a Trait***\n",
    "\n",
    "A type’s behavior consists of the methods we can call on that type. Different types share the same behavior if we can call the same methods on all of those types. Trait definitions are a way to group method signatures together to define a set of behaviors necessary to accomplish some purpose.\n",
    "\n",
    "For example, let’s say we have multiple structs that hold various kinds and amounts of text: a NewsArticle struct that holds a news story filed in a particular location and a Tweet that can have, at most, 280 characters along with metadata that indicates whether it was a new tweet, a retweet, or a reply to another tweet.\n",
    "\n",
    "We want to make a media aggregator library crate named aggregator that can display summaries of data that might be stored in a NewsArticle or Tweet instance. To do this, we need a summary from each type, and we’ll request that summary by calling a summarize method on an instance. Listing 10-12 shows the definition of a public Summary trait that expresses this behavior.\n",
    "\n",
    "Filename: src/lib.rs"
   ]
  },
  {
   "cell_type": "code",
   "execution_count": null,
   "metadata": {},
   "outputs": [],
   "source": [
    "pub trait Summary {\n",
    "    fn summarize(&self) -> String;\n",
    "}"
   ]
  },
  {
   "cell_type": "markdown",
   "metadata": {},
   "source": [
    "Here, we declare a trait using the trait keyword and then the trait’s name, which is Summary in this case. We also declare the trait as pub so that crates depending on this crate can make use of this trait too, as we’ll see in a few examples. Inside the curly brackets, we declare the method signatures that describe the behaviors of the types that implement this trait, which in this case is fn summarize(&self) -> String.\n",
    "\n",
    "After the method signature, instead of providing an implementation within curly brackets, we use a semicolon. Each type implementing this trait must provide its own custom behavior for the body of the method. The compiler will enforce that any type that has the Summary trait will have the method summarize defined with this signature exactly.\n",
    "\n",
    "A trait can have multiple methods in its body: the method signatures are listed one per line, and each line ends in a semicolon."
   ]
  },
  {
   "cell_type": "markdown",
   "metadata": {},
   "source": [
    "***Implementing a Trait on a Type***\n",
    "\n",
    "Now that we’ve defined the desired signatures of the Summary trait’s methods, we can implement it on the types in our media aggregator. Listing 10-13 shows an implementation of the Summary trait on the NewsArticle struct that uses the headline, the author, and the location to create the return value of summarize. For the Tweet struct, we define summarize as the username followed by the entire text of the tweet, assuming that the tweet content is already limited to 280 characters.\n",
    "\n",
    "Filename: src/lib.rs"
   ]
  },
  {
   "cell_type": "code",
   "execution_count": null,
   "metadata": {},
   "outputs": [],
   "source": [
    "pub struct NewsArticle {\n",
    "    pub headline: String,\n",
    "    pub location: String,\n",
    "    pub author: String,\n",
    "    pub content: String,\n",
    "}\n",
    "\n",
    "impl Summary for NewsArticle {\n",
    "    fn summarize(&self) -> String {\n",
    "        format!(\"{}, by {} ({})\", self.headline, self.author, self.location)\n",
    "        // format macro return new string\n",
    "    }\n",
    "}\n",
    "\n",
    "pub struct Tweet {\n",
    "    pub username: String,\n",
    "    pub content: String,\n",
    "    pub reply: bool,\n",
    "    pub retweet: bool,\n",
    "}\n",
    "\n",
    "impl Summary for Tweet {\n",
    "    fn summarize(&self) -> String {\n",
    "        format!(\"{}: {}\", self.username, self.content)\n",
    "    }\n",
    "}"
   ]
  },
  {
   "cell_type": "markdown",
   "metadata": {},
   "source": [
    "Now that the library has implemented the Summary trait on NewsArticle and Tweet, users of the crate can call the trait methods on instances of NewsArticle and Tweet in the same way we call regular methods. The only difference is that the user must bring the trait into scope as well as the types. Here’s an example of how a binary crate could use our aggregator library crate:"
   ]
  },
  {
   "cell_type": "code",
   "execution_count": null,
   "metadata": {},
   "outputs": [],
   "source": [
    "use aggregator::{Summary, Tweet};\n",
    "\n",
    "fn main() {\n",
    "    let tweet = Tweet {\n",
    "        username: String::from(\"horse_ebooks\"),\n",
    "        content: String::from(\n",
    "            \"of course, as you probably already know, people\",\n",
    "        ),\n",
    "        reply: false,\n",
    "        retweet: false,\n",
    "    };\n",
    "\n",
    "    println!(\"1 new tweet: {}\", tweet.summarize());\n",
    "}"
   ]
  },
  {
   "cell_type": "markdown",
   "metadata": {},
   "source": [
    "***Default Implementations***\n",
    "\n",
    "Sometimes it’s useful to have default behavior for some or all of the methods in a trait instead of requiring implementations for all methods on every type. Then, as we implement the trait on a particular type, we can keep or override each method’s default behavior.\n",
    "\n",
    "In Listing 10-14, we specify a default string for the summarize method of the Summary trait instead of only defining the method signature, as we did in Listing 10-12.\n",
    "\n",
    "Filename: src/lib.rs"
   ]
  },
  {
   "cell_type": "code",
   "execution_count": null,
   "metadata": {},
   "outputs": [],
   "source": [
    "pub trait Summary {\n",
    "    // Default function\n",
    "    fn summarize(&self) -> String {\n",
    "        String::from(\"(Read more...)\")\n",
    "    }\n",
    "}\n",
    "let article = NewsArticle {\n",
    "    headline: String::from(\"Penguins win the Stanley Cup Championship!\"),\n",
    "    location: String::from(\"Pittsburgh, PA, USA\"),\n",
    "    author: String::from(\"Iceburgh\"),\n",
    "    content: String::from(\n",
    "        \"The Pittsburgh Penguins once again are the best \\\n",
    "         hockey team in the NHL.\",\n",
    "    ),\n",
    "};\n",
    "\n",
    "println!(\"New article available! {}\", article.summarize());\n"
   ]
  },
  {
   "cell_type": "markdown",
   "metadata": {},
   "source": [
    "***Traits as Parameters***\n",
    "\n",
    "Now that you know how to define and implement traits, we can explore how to use traits to define functions that accept many different types. We’ll use the Summary trait we implemented on the NewsArticle and Tweet types in Listing 10-13 to define a notify function that calls the summarize method on its item parameter, which is of some type that implements the Summary trait. To do this, we use the impl Trait syntax, like this:"
   ]
  },
  {
   "cell_type": "code",
   "execution_count": null,
   "metadata": {},
   "outputs": [],
   "source": [
    "pub fn notify(item: &impl Summary) {\n",
    "    println!(\"Breaking news! {}\", item.summarize());\n",
    "}"
   ]
  },
  {
   "cell_type": "markdown",
   "metadata": {},
   "source": [
    "***Trait Bound Syntax***\n",
    "\n",
    "The impl Trait syntax works for straightforward cases but is actually syntax sugar for a longer form known as a trait bound; it looks like this:"
   ]
  },
  {
   "cell_type": "code",
   "execution_count": null,
   "metadata": {},
   "outputs": [],
   "source": [
    "pub fn notify<T: Summary>(item: &T) {\n",
    "    println!(\"Breaking news! {}\", item.summarize());\n",
    "}"
   ]
  },
  {
   "cell_type": "markdown",
   "metadata": {},
   "source": [
    "***Trait Bound Syntax**\n",
    "\n",
    "The impl Trait syntax works for straightforward cases but is actually syntax sugar for a longer form known as a trait bound; it looks like this:\n",
    "\n",
    "**pub fn notify<T: Summary>(item: &T) {**\n",
    "    **println!(\"Breaking news! {}\", item.summarize());**\n",
    "**}**\n",
    "\n",
    "This longer form is equivalent to the example in the previous section but is more verbose. We place trait bounds with the declaration of the generic type parameter after a colon and inside angle brackets.\n",
    "\n",
    "The impl Trait syntax is convenient and makes for more concise code in simple cases, while the fuller trait bound syntax can express more complexity in other cases. For example, we can have two parameters that implement Summary. Doing so with the impl Trait syntax looks like this:\n",
    "\n",
    "**pub fn notify(item1: &impl Summary, item2: &impl** **Summary) {**\n",
    "\n",
    "Using impl Trait is appropriate if we want this function to allow item1 and item2 to have different types (as long as both types implement Summary). If we want to force both parameters to have the same type, however, we must use a trait bound, like this:\n",
    "\n",
    "**pub fn notify<T: Summary>(item1: &T, item2: &T) {**\n",
    "\n",
    "The generic type T specified as the type of the item1 and item2 parameters constrains the function such that the concrete type of the value passed as an argument for item1 and item2 must be the same."
   ]
  },
  {
   "cell_type": "markdown",
   "metadata": {},
   "source": [
    "***Specifying Multiple Trait Bounds with the + Syntax***\n",
    "\n",
    "We can also specify more than one trait bound. Say we wanted notify to use display formatting as well as summarize on item: we specify in the notify definition that item must implement both Display and Summary. We can do so using the + syntax:\n",
    "\n",
    "**pub fn notify(item: &(impl Summary + Display)) {**\n",
    "\n",
    "The + syntax is also valid with trait bounds on generic types:\n",
    "\n",
    "**pub fn notify<T: Summary + Display>(item: &T) {**\n",
    "\n",
    "With the two trait bounds specified, the body of notify can call summarize and use {} to format item."
   ]
  },
  {
   "cell_type": "markdown",
   "metadata": {},
   "source": [
    "***Clearer Trait Bounds with where Clauses***\n",
    "\n",
    "Using too many trait bounds has its downsides. Each generic has its own trait bounds, so functions with multiple generic type parameters can contain lots of trait bound information between the function’s name and its parameter list, making the function signature hard to read. For this reason, Rust has alternate syntax for specifying trait bounds inside a where clause after the function signature. So, instead of writing this:"
   ]
  },
  {
   "cell_type": "code",
   "execution_count": null,
   "metadata": {},
   "outputs": [],
   "source": [
    "fn some_function<T: Display + Clone, U: Clone + Debug>(t: &T, u: &U) -> i32 {}\n",
    "\n",
    "fn some_function<T, U>(t: &T, u: &U) -> i32\n",
    "where\n",
    "    T: Display + Clone,\n",
    "    U: Clone + Debug,\n",
    "{}"
   ]
  },
  {
   "cell_type": "markdown",
   "metadata": {},
   "source": [
    "***Returning Types That Implement Traits***\n",
    "\n",
    "We can also use the impl Trait syntax in the return position to return a value of some type that implements a trait, as shown here:"
   ]
  },
  {
   "cell_type": "code",
   "execution_count": null,
   "metadata": {},
   "outputs": [],
   "source": [
    "fn returns_summarizable() -> impl Summary {\n",
    "    Tweet {\n",
    "        username: String::from(\"horse_ebooks\"),\n",
    "        content: String::from(\n",
    "            \"of course, as you probably already know, people\",\n",
    "        ),\n",
    "        reply: false,\n",
    "        retweet: false,\n",
    "    }\n",
    "}"
   ]
  },
  {
   "cell_type": "code",
   "execution_count": null,
   "metadata": {},
   "outputs": [],
   "source": [
    "// Error\n",
    "// Cover CP 17 \n",
    "fn returns_summarizable(switch: bool) -> impl Summary {\n",
    "    if switch {\n",
    "        NewsArticle {\n",
    "            headline: String::from(\n",
    "                \"Penguins win the Stanley Cup Championship!\",\n",
    "            ),\n",
    "            location: String::from(\"Pittsburgh, PA, USA\"),\n",
    "            author: String::from(\"Iceburgh\"),\n",
    "            content: String::from(\n",
    "                \"The Pittsburgh Penguins once again are the best \\\n",
    "                 hockey team in the NHL.\",\n",
    "            ),\n",
    "        }\n",
    "    } else {\n",
    "        Tweet {\n",
    "            username: String::from(\"horse_ebooks\"),\n",
    "            content: String::from(\n",
    "                \"of course, as you probably already know, people\",\n",
    "            ),\n",
    "            reply: false,\n",
    "            retweet: false,\n",
    "        }\n",
    "    }\n",
    "}"
   ]
  },
  {
   "cell_type": "markdown",
   "metadata": {},
   "source": [
    "***Using Trait Bounds to Conditionally Implement Methods***\n",
    "\n",
    "By using a trait bound with an impl block that uses generic type parameters, we can implement methods conditionally for types that implement the specified traits. For example, the type Pair<T> in Listing 10-15 always implements the new function to return a new instance of Pair<T> (recall from the “Defining Methods” section of Chapter 5 that Self is a type alias for the type of the impl block, which in this case is Pair<T>). But in the next impl block, Pair<T> only implements the cmp_display method if its inner type T implements the PartialOrd trait that enables comparison and the Display trait that enables printing.\n",
    "\n",
    "Filename: src/lib.rs"
   ]
  },
  {
   "cell_type": "code",
   "execution_count": null,
   "metadata": {},
   "outputs": [],
   "source": [
    "use std::fmt::Display;\n",
    "\n",
    "struct Pair<T> {\n",
    "    x: T,\n",
    "    y: T,\n",
    "}\n",
    "\n",
    "impl<T> Pair<T> {\n",
    "    fn new(x: T, y: T) -> Self {\n",
    "        Self { x, y }\n",
    "    }\n",
    "}\n",
    "\n",
    "impl<T: Display + PartialOrd> Pair<T> {\n",
    "    fn cmp_display(&self) {\n",
    "        if self.x >= self.y {\n",
    "            println!(\"The largest member is x = {}\", self.x);\n",
    "        } else {\n",
    "            println!(\"The largest member is y = {}\", self.y);\n",
    "        }\n",
    "    }\n",
    "}"
   ]
  },
  {
   "cell_type": "code",
   "execution_count": null,
   "metadata": {},
   "outputs": [],
   "source": [
    "let s = 3.to_string();"
   ]
  }
 ],
 "metadata": {
  "kernelspec": {
   "display_name": "Rust",
   "language": "rust",
   "name": "rust"
  },
  "language_info": {
   "name": "rust"
  }
 },
 "nbformat": 4,
 "nbformat_minor": 2
}
