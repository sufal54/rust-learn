{
 "cells": [
  {
   "cell_type": "markdown",
   "metadata": {},
   "source": [
    "**Control Flow**\n",
    "\n",
    "The ability to run some code depending on whether a condition is true and to run some code repeatedly while a condition is true are basic building blocks in most programming languages. The most common constructs that let you control the flow of execution of Rust code are if expressions and loops.\n",
    "\n",
    "**if Expressions**\n",
    "\n",
    "An if expression allows you to branch your code depending on conditions. You provide a condition and then state, “If this condition is met, run this block of code. If the condition is not met, do not run this block of code.”"
   ]
  },
  {
   "cell_type": "code",
   "execution_count": null,
   "metadata": {},
   "outputs": [],
   "source": [
    "let number = 3;\n",
    "if number < 5 {\n",
    "    println!(\"condition was true\");\n",
    "} else {\n",
    "    println!(\"condition was false\");\n",
    "}"
   ]
  },
  {
   "cell_type": "code",
   "execution_count": null,
   "metadata": {},
   "outputs": [],
   "source": [
    "let number = 3;\n",
    "if number { //error we can't\n",
    "    println!(\"number was three\");\n",
    "}\n",
    "\n",
    "//correct way\n",
    "if number != 0 {\n",
    "    println!(\"number was three\");\n",
    "}"
   ]
  },
  {
   "cell_type": "code",
   "execution_count": null,
   "metadata": {},
   "outputs": [],
   "source": [
    "let number = 6;\n",
    "if number % 4 == 0 {\n",
    "    println!(\"number is divisible by 4\");\n",
    "} else if number % 3 == 0 {\n",
    "    println!(\"number is divisible by 3\");\n",
    "} else if number % 2 == 0 {\n",
    "    println!(\"number is divisible by 2\");\n",
    "} else {\n",
    "    println!(\"number is not divisible by 4, 3, or 2\");\n",
    "}"
   ]
  },
  {
   "cell_type": "markdown",
   "metadata": {},
   "source": [
    "**Using if in a let Statement**\n",
    "\n",
    "Because if is an expression, we can use it on the right side of a let statement to assign the outcome to a variable"
   ]
  },
  {
   "cell_type": "code",
   "execution_count": null,
   "metadata": {},
   "outputs": [],
   "source": [
    "let condition = true;\n",
    "let number = if condition { 5 } else { 6 };\n",
    "println!(\"The value of number is: {number}\");"
   ]
  },
  {
   "cell_type": "code",
   "execution_count": null,
   "metadata": {},
   "outputs": [],
   "source": [
    "let condition = true;\n",
    "let number = if condition { 5 } else { \"six\" };//error we can't give multiple types\n",
    "println!(\"The value of number is: {number}\");"
   ]
  },
  {
   "cell_type": "markdown",
   "metadata": {},
   "source": [
    "**Repetition with Loops**\n",
    "\n",
    "It’s often useful to execute a block of code more than once. For this task, Rust provides several loops, which will run through the code inside the loop body to the end and then start immediately back at the beginning. To experiment with loops, let’s make a new project called loops."
   ]
  },
  {
   "cell_type": "code",
   "execution_count": null,
   "metadata": {},
   "outputs": [],
   "source": [
    "loop {\n",
    "    println!(\"again!\"); //infinite loop\n",
    "}"
   ]
  },
  {
   "cell_type": "markdown",
   "metadata": {},
   "source": [
    "**Returning Values from Loops**\n",
    "\n",
    "One of the uses of a loop is to retry an operation you know might fail, such as checking whether a thread has completed its job. You might also need to pass the result of that operation out of the loop to the rest of your code. To do this, you can add the value you want returned after the break expression you use to stop the loop; that value will be returned out of the loop so you can use it, as shown here:"
   ]
  },
  {
   "cell_type": "code",
   "execution_count": null,
   "metadata": {},
   "outputs": [],
   "source": [
    "let mut counter = 0;\n",
    "let result = loop {\n",
    "    counter += 1;\n",
    "    if counter == 10 {\n",
    "        break counter * 2; //break and return counter\n",
    "    }\n",
    "};\n",
    "println!(\"The result is {result}\");"
   ]
  },
  {
   "cell_type": "markdown",
   "metadata": {},
   "source": [
    "**Loop Labels to Disambiguate Between Multiple Loops**\n",
    "\n",
    "If you have loops within loops, break and continue apply to the innermost loop at that point. You can optionally specify a loop label on a loop that you can then use with break or continue to specify that those keywords apply to the labeled loop instead of the innermost loop. Loop labels must begin with a single quote. Here’s an example with two nested loops:"
   ]
  },
  {
   "cell_type": "code",
   "execution_count": null,
   "metadata": {},
   "outputs": [],
   "source": [
    "let mut count = 0;\n",
    "'counting_up: loop { // '{name} we can give any name\n",
    "    println!(\"count = {count}\");\n",
    "    let mut remaining = 10;\n",
    "    loop {\n",
    "        println!(\"remaining = {remaining}\");\n",
    "        if remaining == 9 {\n",
    "            break;\n",
    "        }\n",
    "        if count == 2 {\n",
    "            break 'counting_up; //break the upper loop\n",
    "        }\n",
    "        remaining -= 1;\n",
    "    }\n",
    "    count += 1;\n",
    "}\n",
    "println!(\"End count = {count}\");"
   ]
  },
  {
   "cell_type": "markdown",
   "metadata": {},
   "source": [
    "**Conditional Loops with while**\n",
    "\n",
    "A program will often need to evaluate a condition within a loop. While the condition is true, the loop runs. When the condition ceases to be true, the program calls break, stopping the loop. It’s possible to implement behavior like this using a combination of loop, if, else, and break; you could try that now in a program, if you’d like. However, this pattern is so common that Rust has a built-in language construct for it, called a while loop. In Listing 3-3, we use while to loop the program three times, counting down each time, and then, after the loop, print a message and exit"
   ]
  },
  {
   "cell_type": "code",
   "execution_count": null,
   "metadata": {},
   "outputs": [],
   "source": [
    "let mut number = 3;\n",
    "while number != 0 { //we can use break; to break loop\n",
    "    println!(\"{number}!\");\n",
    "    number -= 1;\n",
    "}\n",
    "println!(\"LIFTOFF!!!\");"
   ]
  },
  {
   "cell_type": "code",
   "execution_count": null,
   "metadata": {},
   "outputs": [],
   "source": [
    "let a = [10, 20, 30, 40, 50];\n",
    "for element in a {\n",
    "    println!(\"the value is: {element}\");\n",
    "}"
   ]
  },
  {
   "cell_type": "code",
   "execution_count": null,
   "metadata": {},
   "outputs": [],
   "source": [
    "for number in (1..4).rev() {\n",
    "    println!(\"{number}!\");\n",
    "}\n",
    "println!(\"LIFTOFF!!!\");"
   ]
  }
 ],
 "metadata": {
  "kernelspec": {
   "display_name": "Rust",
   "language": "rust",
   "name": "rust"
  },
  "language_info": {
   "codemirror_mode": "rust",
   "file_extension": ".rs",
   "mimetype": "text/rust",
   "name": "rust",
   "pygment_lexer": "rust",
   "version": ""
  }
 },
 "nbformat": 4,
 "nbformat_minor": 2
}
