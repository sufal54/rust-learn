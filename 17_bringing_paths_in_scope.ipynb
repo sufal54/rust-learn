{
 "cells": [
  {
   "cell_type": "markdown",
   "metadata": {},
   "source": [
    "***Bringing Paths into Scope with the use Keyword***\n",
    "\n",
    "Having to write out the paths to call functions can feel inconvenient and repetitive. In Listing 7-7, whether we chose the absolute or relative path to the add_to_waitlist function, every time we wanted to call add_to_waitlist we had to specify front_of_house and hosting too. Fortunately, there’s a way to simplify this process: we can create a shortcut to a path with the use keyword once, and then use the shorter name everywhere else in the scope.\n",
    "\n",
    "In Listing 7-11, we bring the crate::front_of_house::hosting module into the scope of the eat_at_restaurant function so we only have to specify hosting::add_to_waitlist to call the add_to_waitlist function in eat_at_restaurant.\n",
    "\n",
    "Filename: src/lib.rs"
   ]
  },
  {
   "cell_type": "code",
   "execution_count": 2,
   "metadata": {
    "vscode": {
     "languageId": "rust"
    }
   },
   "outputs": [],
   "source": [
    "mod front_of_house {\n",
    "    pub mod hosting {\n",
    "        pub fn add_to_waitlist() {}\n",
    "    }\n",
    "}\n",
    "\n",
    "use crate::front_of_house::hosting;\n",
    "\n",
    "pub fn eat_at_restaurant() {\n",
    "    hosting::add_to_waitlist();\n",
    "}"
   ]
  },
  {
   "cell_type": "markdown",
   "metadata": {},
   "source": [
    "Note that use only creates the shortcut for the particular scope in which the use occurs. Listing 7-12 moves the eat_at_restaurant function into a new child module named customer, which is then a different scope than the use statement, so the function body won’t compile.\n",
    "\n",
    "Filename: src/lib.rs"
   ]
  },
  {
   "cell_type": "code",
   "execution_count": null,
   "metadata": {
    "vscode": {
     "languageId": "rust"
    }
   },
   "outputs": [],
   "source": [
    "mod front_of_house {\n",
    "    pub mod hosting {\n",
    "        pub fn add_to_waitlist() {}\n",
    "    }\n",
    "}\n",
    "\n",
    "use crate::front_of_house::hosting;\n",
    "\n",
    "mod customer {\n",
    "    pub fn eat_at_restaurant() {\n",
    "        hosting::add_to_waitlist(); //error hosting not declared\n",
    "    }\n",
    "}"
   ]
  },
  {
   "cell_type": "markdown",
   "metadata": {},
   "source": [
    "***Creating Idiomatic use Paths***\n",
    "\n",
    "In Listing 7-11, you might have wondered why we specified use crate::front_of_house::hosting and then called hosting::add_to_waitlist in eat_at_restaurant, rather than specifying the use path all the way out to the add_to_waitlist function to achieve the same result, as in Listing 7-13.\n",
    "\n",
    "Filename: src/lib.rs"
   ]
  },
  {
   "cell_type": "code",
   "execution_count": 4,
   "metadata": {
    "vscode": {
     "languageId": "rust"
    }
   },
   "outputs": [],
   "source": [
    "mod front_of_house {\n",
    "    pub mod hosting {\n",
    "        pub fn add_to_waitlist() {}\n",
    "    }\n",
    "}\n",
    "\n",
    "use crate::front_of_house::hosting::add_to_waitlist;\n",
    "\n",
    "pub fn eat_at_restaurant() {\n",
    "    add_to_waitlist();\n",
    "}"
   ]
  },
  {
   "cell_type": "markdown",
   "metadata": {},
   "source": [
    "On the other hand, when bringing in structs, enums, and other items with use, it’s idiomatic to specify the full path. Listing 7-14 shows the idiomatic way to bring the standard library’s HashMap struct into the scope of a binary crate.\n",
    "\n",
    "Filename: src/main.rs"
   ]
  },
  {
   "cell_type": "code",
   "execution_count": null,
   "metadata": {
    "vscode": {
     "languageId": "rust"
    }
   },
   "outputs": [],
   "source": [
    "use std::collections::HashMap;\n",
    "\n",
    "fn main() {\n",
    "    let mut map = HashMap::new();\n",
    "    map.insert(1, 2);\n",
    "}"
   ]
  },
  {
   "cell_type": "markdown",
   "metadata": {},
   "source": [
    "The exception to this idiom is if we’re bringing two items with the same name into scope with use statements, because Rust doesn’t allow that. Listing 7-15 shows how to bring two Result types into scope that have the same name but different parent modules, and how to refer to them.\n",
    "\n",
    "Filename: src/lib.rs"
   ]
  },
  {
   "cell_type": "code",
   "execution_count": null,
   "metadata": {
    "vscode": {
     "languageId": "rust"
    }
   },
   "outputs": [],
   "source": [
    "use std::fmt;\n",
    "use std::io;\n",
    "\n",
    "fn function1() -> fmt::Result {\n",
    "    // --snip--\n",
    "}\n",
    "\n",
    "fn function2() -> io::Result<()> {\n",
    "    // --snip--\n",
    "}"
   ]
  },
  {
   "cell_type": "markdown",
   "metadata": {},
   "source": [
    "***Providing New Names with the as Keyword***\n",
    "\n",
    "There’s another solution to the problem of bringing two types of the same name into the same scope with use: after the path, we can specify as and a new local name, or alias, for the type. Listing 7-16 shows another way to write the code in Listing 7-15 by renaming one of the two Result types using as.\n",
    "\n",
    "Filename: src/lib.rs"
   ]
  },
  {
   "cell_type": "code",
   "execution_count": null,
   "metadata": {
    "vscode": {
     "languageId": "rust"
    }
   },
   "outputs": [],
   "source": [
    "use std::fmt::Result;\n",
    "use std::io::Result as IoResult;\n",
    "\n",
    "fn function1() -> Result {\n",
    "    // --snip--\n",
    "}\n",
    "\n",
    "fn function2() -> IoResult<()> {\n",
    "    // --snip--\n",
    "}"
   ]
  },
  {
   "cell_type": "markdown",
   "metadata": {},
   "source": [
    "***Re-exporting Names with pub use***\n",
    "\n",
    "When we bring a name into scope with the use keyword, the name available in the new scope is private. To enable the code that calls our code to refer to that name as if it had been defined in that code’s scope, we can combine pub and use. This technique is called re-exporting because we’re bringing an item into scope but also making that item available for others to bring into their scope.\n",
    "\n",
    "Listing 7-17 shows the code in Listing 7-11 with use in the root module changed to pub use.\n",
    "\n",
    "Filename: src/lib.rs"
   ]
  },
  {
   "cell_type": "code",
   "execution_count": null,
   "metadata": {
    "vscode": {
     "languageId": "rust"
    }
   },
   "outputs": [],
   "source": [
    "mod front_of_house {\n",
    "    pub mod hosting {\n",
    "        pub fn add_to_waitlist() {}\n",
    "    }\n",
    "}\n",
    "\n",
    "pub use crate::front_of_house::hosting;\n",
    "\n",
    "pub fn eat_at_restaurant() {\n",
    "    hosting::add_to_waitlist();\n",
    "}"
   ]
  },
  {
   "cell_type": "markdown",
   "metadata": {},
   "source": [
    "***The Glob Operator***\n",
    "\n",
    "If we want to bring all public items defined in a path into scope, we can specify that path followed by the * glob operator:"
   ]
  },
  {
   "cell_type": "code",
   "execution_count": null,
   "metadata": {
    "vscode": {
     "languageId": "rust"
    }
   },
   "outputs": [],
   "source": [
    "use std::collections::*;"
   ]
  }
 ],
 "metadata": {
  "kernelspec": {
   "display_name": "Rust",
   "language": "rust",
   "name": "rust"
  },
  "language_info": {
   "codemirror_mode": "rust",
   "file_extension": ".rs",
   "mimetype": "text/rust",
   "name": "Rust",
   "pygment_lexer": "rust",
   "version": ""
  }
 },
 "nbformat": 4,
 "nbformat_minor": 2
}
