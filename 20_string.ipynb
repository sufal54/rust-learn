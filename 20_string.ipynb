{
 "cells": [
  {
   "cell_type": "markdown",
   "metadata": {},
   "source": [
    "***Storing UTF-8 Encoded Text with Strings***\n",
    "\n",
    "We talked about strings in Chapter 4, but we’ll look at them in more depth now. New Rustaceans commonly get stuck on strings for a combination of three reasons: Rust’s propensity for exposing possible errors, strings being a more complicated data structure than many programmers give them credit for, and UTF-8. These factors combine in a way that can seem difficult when you’re coming from other programming languages.\n",
    "\n",
    "We discuss strings in the context of collections because strings are implemented as a collection of bytes, plus some methods to provide useful functionality when those bytes are interpreted as text. In this section, we’ll talk about the operations on String that every collection type has, such as creating, updating, and reading. We’ll also discuss the ways in which String is different from the other collections, namely how indexing into a String is complicated by the differences between how people and computers interpret String data.\n",
    "\n",
    "***What Is a String?***\n",
    "\n",
    "We’ll first define what we mean by the term string. Rust has only one string type in the core language, which is the string slice str that is usually seen in its borrowed form &str. In Chapter 4, we talked about string slices, which are references to some UTF-8 encoded string data stored elsewhere. String literals, for example, are stored in the program’s binary and are therefore string slices.\n",
    "\n",
    "The String type, which is provided by Rust’s standard library rather than coded into the core language, is a growable, mutable, owned, UTF-8 encoded string type. When Rustaceans refer to “strings” in Rust, they might be referring to either the String or the string slice &str types, not just one of those types. Although this section is largely about String, both types are used heavily in Rust’s standard library, and both String and string slices are UTF-8 encoded."
   ]
  },
  {
   "cell_type": "code",
   "execution_count": 2,
   "metadata": {},
   "outputs": [],
   "source": [
    "let mut s = String::new(); //create empty heap string\n",
    "let data = \"initial contents\";\n",
    "\n",
    "let s = data.to_string();// stack string\n",
    "\n",
    "// the method also works on a literal directly:\n",
    "let s = \"initial contents\".to_string(); // heap string\n",
    "\n",
    "let s = String::from(\"initial contents\");\n"
   ]
  },
  {
   "cell_type": "code",
   "execution_count": null,
   "metadata": {},
   "outputs": [],
   "source": [
    "// Becouse of UTF-8 encoded\n",
    "let hello = String::from(\"السلام عليكم\");\n",
    "let hello = String::from(\"Dobrý den\");\n",
    "let hello = String::from(\"Hello\");\n",
    "let hello = String::from(\"שלום\");\n",
    "let hello = String::from(\"नमस्ते\");\n",
    "let hello = String::from(\"こんにちは\");\n",
    "let hello = String::from(\"안녕하세요\");\n",
    "let hello = String::from(\"你好\");\n",
    "let hello = String::from(\"Olá\");\n",
    "let hello = String::from(\"Здравствуйте\");\n",
    "let hello = String::from(\"Hola\");"
   ]
  },
  {
   "cell_type": "code",
   "execution_count": null,
   "metadata": {},
   "outputs": [],
   "source": [
    "// Update String\n",
    "let mut s = String::from(\"foo\");\n",
    "s.push_str(\"bar\");\n",
    "\n",
    "let mut s1 = String::from(\"foo\");\n",
    "let s2 = \"bar\";\n",
    "s1.push_str(s2);// this method takes string slice not ownership\n",
    "println!(\"s2 is {s2}\");"
   ]
  },
  {
   "cell_type": "code",
   "execution_count": null,
   "metadata": {},
   "outputs": [],
   "source": [
    "let s1 = String::from(\"Hello, \");\n",
    "let s2 = String::from(\"world!\");\n",
    "let s3 = s1 + &s2; // note s1 has been moved here and can no longer be used"
   ]
  },
  {
   "cell_type": "code",
   "execution_count": null,
   "metadata": {},
   "outputs": [],
   "source": [
    "let s1 = String::from(\"tic\");\n",
    "let s2 = String::from(\"tac\");\n",
    "let s3 = String::from(\"toe\");\n",
    "\n",
    "let s = s1 + \"-\" + &s2 + \"-\" + &s3;\n",
    "// Or\n",
    "let s = format!(\"{s1}-{s2}-{s3}\"); // Doesn't take ownership"
   ]
  },
  {
   "cell_type": "code",
   "execution_count": null,
   "metadata": {},
   "outputs": [],
   "source": [
    "let s1 = String::from(\"hello\");\n",
    "let h = s1[0]; // error\n",
    "//string don't support indexing\n",
    "let hello = \"Здравствуйте\";\n",
    "let answer = &hello[0];// error\n",
    "// Rust stor string in byte formate so when we try to get index\n",
    "// rust don't know is it a character or Integer suppose it's return a integer value\n",
    "// the why rust didn't allow it"
   ]
  },
  {
   "cell_type": "markdown",
   "metadata": {},
   "source": [
    "***Slicing Strings***\n",
    "\n",
    "Indexing into a string is often a bad idea because it’s not clear what the return type of the string-indexing operation should be: a byte value, a character, a grapheme cluster, or a string slice. If you really need to use indices to create string slices, therefore, Rust asks you to be more specific.\n",
    "\n",
    "Rather than indexing using [] with a single number, you can use [] with a range to create a string slice containing particular bytes:"
   ]
  },
  {
   "cell_type": "code",
   "execution_count": null,
   "metadata": {},
   "outputs": [],
   "source": [
    "let hello = \"Здравствуйте\";\n",
    "let s = &hello[0..4];"
   ]
  },
  {
   "cell_type": "code",
   "execution_count": null,
   "metadata": {},
   "outputs": [],
   "source": [
    "// iteration in String\n",
    "for c in \"Зд\".chars() {\n",
    "    println!(\"{c}\");\n",
    "}\n",
    "for b in \"Зд\".bytes() {\n",
    "    println!(\"{b}\");\n",
    "}"
   ]
  }
 ],
 "metadata": {
  "kernelspec": {
   "display_name": "Rust",
   "language": "rust",
   "name": "rust"
  },
  "language_info": {
   "codemirror_mode": "rust",
   "file_extension": ".rs",
   "mimetype": "text/rust",
   "name": "rust",
   "pygment_lexer": "rust",
   "version": ""
  }
 },
 "nbformat": 4,
 "nbformat_minor": 2
}
