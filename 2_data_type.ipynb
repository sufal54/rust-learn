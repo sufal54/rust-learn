{
 "cells": [
  {
   "cell_type": "markdown",
   "metadata": {},
   "source": [
    "**Data Types**\n",
    "\n",
    "Every value in Rust is of a certain data type, which tells Rust what\n",
    "kind of data is being specified so it knows how to work with that data."
   ]
  },
  {
   "cell_type": "code",
   "execution_count": null,
   "metadata": {},
   "outputs": [],
   "source": [
    "// parse string to integer\n",
    "let guess:u32 = \"42\".parse().expect(\"Not a number\");"
   ]
  },
  {
   "cell_type": "markdown",
   "metadata": {},
   "source": [
    "**Scalar Types**\n",
    "An Integer is a number without a fractional component.\n",
    "\n",
    "8-bit: Signed-i8 , Unsigned-u8\n",
    "16-bit: Signed-i16 , Unsigned-u16\n",
    "32-bit: Signed-i32 , Unsigned-u32\n",
    "64-bit: Signed-i64 , Unsigned-u64\n",
    "arch: Signed-isize , Unsigned-usize => max bit of a computer\n",
    "\n",
    "**Find capacity of bit**\n",
    "signed => 2^(n - 1) -1\n",
    "unsigned => 2^n -1\n",
    "\n",
    "Decimal => 100_000\n",
    "Hex => oxff\n",
    "Binary => ob1111_0000\n",
    "Byte(u8 only) => b'A'"
   ]
  },
  {
   "cell_type": "markdown",
   "metadata": {},
   "source": [
    "**Floating-Point Types**\n",
    "\n",
    "Rust also has two primitive types for floating point number, which is f32 and f64."
   ]
  },
  {
   "cell_type": "code",
   "execution_count": null,
   "metadata": {},
   "outputs": [],
   "source": [
    "let x = 2.0_f32;\n",
    "let y:f64 = 3.5;"
   ]
  },
  {
   "cell_type": "markdown",
   "metadata": {},
   "source": [
    "**Numeric Operation**"
   ]
  },
  {
   "cell_type": "code",
   "execution_count": null,
   "metadata": {},
   "outputs": [],
   "source": [
    "// addition\n",
    "let sum:u8 = 5 + 10;\n",
    "// subtraction\n",
    "let difference:f32 = 9.5 - 4.3;\n",
    "// multiplication\n",
    "let product = 4 * 30;\n",
    "// division\n",
    "let quotient:f32 = 56.7 / 32.2;\n",
    "let truncated:i8 = -5 / 3; //Results in -1;\n",
    "// remainder\n",
    "let remainder = 43 % 5;"
   ]
  },
  {
   "cell_type": "markdown",
   "metadata": {},
   "source": [
    "**The Boolean Types**"
   ]
  },
  {
   "cell_type": "code",
   "execution_count": null,
   "metadata": {},
   "outputs": [],
   "source": [
    "let t = true;\n",
    "let f:bool = false;"
   ]
  },
  {
   "cell_type": "markdown",
   "metadata": {},
   "source": [
    "**The Character Types**\n",
    "\n",
    "Rust's char type is the language's most primitive alphabetic type."
   ]
  },
  {
   "cell_type": "code",
   "execution_count": null,
   "metadata": {},
   "outputs": [],
   "source": [
    "let c:char = 'z';\n",
    "let cat:char = '\\u{1F431}'; //we can use double quotation also and unicoe or emoji\n",
    "println!(\"{c} : {cat}\");"
   ]
  },
  {
   "cell_type": "markdown",
   "metadata": {},
   "source": [
    "**The Tuple Type**\n",
    "\n",
    "A tuple is a general way of grouping together a number of value with a variety of types into a compound type. Typles have a fixed length: Once declared, they cannot grow or shrink in size."
   ]
  },
  {
   "cell_type": "code",
   "execution_count": null,
   "metadata": {},
   "outputs": [],
   "source": [
    "let tup:(i32, f64, u8) = (500, 6.4, 1);\n",
    "let (x, y, z) = tup; //destructure\n",
    "println!(\"x: {x}, y: {y}, z: {z}\");"
   ]
  },
  {
   "cell_type": "code",
   "execution_count": null,
   "metadata": {},
   "outputs": [],
   "source": [
    "let tup:(i32, f64, u8) = (500, 6.4, 1);\n",
    "println!(\"1: {tup.0}, 2: {tup.1}, 3: {tup.2}\");"
   ]
  },
  {
   "cell_type": "markdown",
   "metadata": {},
   "source": [
    "**The Array Types**\n",
    "\n",
    "Another way to have a collection of multiple value is with an array. Unlike a tuple,\n",
    "every element of a array must have the same data type and fixed length."
   ]
  },
  {
   "cell_type": "code",
   "execution_count": null,
   "metadata": {},
   "outputs": [],
   "source": [
    "let a:[u8; 5] = [1,2,3,4,5]; //u8 data type and 5 is total elements\n",
    "let b:[u8; 5] = [3; 5]; //5 element filled with 3;\n",
    "\n",
    "let first = a[0];\n",
    "let second = a[1];"
   ]
  }
 ],
 "metadata": {
  "kernelspec": {
   "display_name": "Rust",
   "language": "rust",
   "name": "rust"
  },
  "language_info": {
   "codemirror_mode": "rust",
   "file_extension": ".rs",
   "mimetype": "text/rust",
   "name": "rust",
   "pygment_lexer": "rust",
   "version": ""
  }
 },
 "nbformat": 4,
 "nbformat_minor": 2
}
