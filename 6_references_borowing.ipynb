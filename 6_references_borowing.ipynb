{
 "cells": [
  {
   "cell_type": "markdown",
   "metadata": {},
   "source": [
    "**References and Borrowing**\n",
    "\n",
    "The issue with the tuple code in Listing 4-5 is that we have to return the String to the calling function so we can still use the String after the call to calculate_length, because the String was moved into calculate_length. Instead, we can provide a reference to the String value. A reference is like a pointer in that it’s an address we can follow to access the data stored at that address; that data is owned by some other variable. Unlike a pointer, a reference is guaranteed to point to a valid value of a particular type for the life of that reference."
   ]
  },
  {
   "cell_type": "code",
   "execution_count": null,
   "metadata": {},
   "outputs": [],
   "source": [
    "let s1 = String::from(\"hello\");\n",
    "let len = calculate_length(&s1); //& means we gives s1's reference (Read only)\n",
    "println!(\"The length of '{s1}' is {len}.\");\n",
    "\n",
    "fn calculate_length(s: &String) -> usize {\n",
    "s.len()\n",
    "}"
   ]
  },
  {
   "cell_type": "code",
   "execution_count": null,
   "metadata": {},
   "outputs": [],
   "source": [
    "let s = String::from(\"hello\");\n",
    "\n",
    "change(&s);//we pass reference (read only)\n",
    "\n",
    "fn change(some_string: &String) {\n",
    "some_string.push_str(\", world\");//error\n",
    "}"
   ]
  },
  {
   "cell_type": "markdown",
   "metadata": {},
   "source": [
    "**Mutable References**\n",
    "\n",
    "We can fix the code from Listing 4-6 to allow us to modify a borrowed value with just a few small tweaks that use, instead, a mutable reference: "
   ]
  },
  {
   "cell_type": "code",
   "execution_count": null,
   "metadata": {},
   "outputs": [],
   "source": [
    "let mut s = String::from(\"hello\");\n",
    "change(&mut s); //passing a mutable reference\n",
    "fn change(some_string: &mut String) {\n",
    "some_string.push_str(\", world\");\n",
    "}"
   ]
  },
  {
   "cell_type": "code",
   "execution_count": null,
   "metadata": {},
   "outputs": [],
   "source": [
    "let mut s = String::from(\"hello\");\n",
    "let r1 = &mut s;\n",
    "let r2 = &mut s;//error at same time we can't give two or more mutable reference\n",
    "println!(\"{}, {}\", r1, r2);"
   ]
  },
  {
   "cell_type": "markdown",
   "metadata": {},
   "source": [
    "\n",
    "* Two or more pointers access the same data at the same time.\n",
    "* At least one of the pointers is being used to write to the data.\n",
    "* There’s no mechanism being used to synchronize access to the data. "
   ]
  },
  {
   "cell_type": "code",
   "execution_count": null,
   "metadata": {},
   "outputs": [],
   "source": [
    "let mut s = String::from(\"hello\");\n",
    "{\n",
    "    let r1 = &mut s;\n",
    "} // r1 goes out of scope here, so we can make a new reference with no problems.\n",
    "let r2 = &mut s;"
   ]
  },
  {
   "cell_type": "code",
   "execution_count": null,
   "metadata": {},
   "outputs": [],
   "source": [
    "let mut s = String::from(\"hello\");\n",
    "let r1 = &s; // no problem\n",
    "let r2 = &s; // no problem\n",
    "let r3 = &mut s; // BIG PROBLEM\n",
    "println!(\"{}, {}, and {}\", r1, r2, r3);"
   ]
  },
  {
   "cell_type": "code",
   "execution_count": null,
   "metadata": {},
   "outputs": [],
   "source": [
    "let mut s = String::from(\"hello\");\n",
    "let r1 = &s; // no problem\n",
    "let r2 = &s; // no problem\n",
    "println!(\"{r1} and {r2}\");\n",
    "// variables r1 and r2 will not be used after this point\n",
    "let r3 = &mut s; // no problem\n",
    "println!(\"{r3}\");"
   ]
  },
  {
   "cell_type": "markdown",
   "metadata": {},
   "source": [
    "**Dangling References**\n",
    "\n",
    "In languages with pointers, it’s easy to erroneously create a dangling pointer—a pointer that references a location in memory that may have been given to someone else—by freeing some memory while preserving a pointer to that memory. In Rust, by contrast, the compiler guarantees that references will never be dangling references: if you have a reference to some data, the compiler will ensure that the data will not go out of scope before the reference to the data does."
   ]
  },
  {
   "cell_type": "code",
   "execution_count": null,
   "metadata": {},
   "outputs": [],
   "source": [
    "let reference_to_nothing = dangle();//after the functiong end the s varible droped \n",
    "//so it's pointing a wrong locations\n",
    "fn dangle() -> &String { // dangle returns a reference to a String\n",
    "    let s = String::from(\"hello\"); // s is a new String\n",
    "    &s // we return a reference to the String, s\n",
    "} // Here, s goes out of scope, and is dropped. Its memory goes away.\n",
    "  // Danger!"
   ]
  },
  {
   "cell_type": "code",
   "execution_count": null,
   "metadata": {},
   "outputs": [],
   "source": [
    "fn dangle() -> &String { \n",
    "let s = String::from(\"hello\");\n",
    "s //inplace or reference send owership\n",
    "} "
   ]
  },
  {
   "cell_type": "markdown",
   "metadata": {},
   "source": [
    "**The Rules of References**\n",
    "\n",
    "Let’s recap what we’ve discussed about references:\n",
    "\n",
    "   * At any given time, you can have either one mutable reference or any number of immutable references.\n",
    "   * References must always be valid.\n"
   ]
  }
 ],
 "metadata": {
  "kernelspec": {
   "display_name": "Rust",
   "language": "rust",
   "name": "rust"
  },
  "language_info": {
   "codemirror_mode": "rust",
   "file_extension": ".rs",
   "mimetype": "text/rust",
   "name": "rust",
   "pygment_lexer": "rust",
   "version": ""
  }
 },
 "nbformat": 4,
 "nbformat_minor": 2
}
