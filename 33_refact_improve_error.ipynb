{
 "cells": [
  {
   "cell_type": "markdown",
   "metadata": {},
   "source": [
    "***Separation of Concerns for Binary Projects***\n",
    "\n",
    "The organizational problem of allocating responsibility for multiple tasks to the main function is common to many binary projects. As a result, the Rust community has developed guidelines for splitting the separate concerns of a binary program when main starts getting large. This process has the following steps:\n",
    "\n",
    "* Split your program into a main.rs file and a lib.rs file and move your program’s logic to lib.rs.\n",
    "* As long as your command line parsing logic is small, it can remain in main.rs.\n",
    "* When the command line parsing logic starts getting complicated, extract it from main.rs and move it to lib.rs.\n",
    "\n",
    "The responsibilities that remain in the main function after this process should be limited to the following:\n",
    "\n",
    "* Calling the command line parsing logic with the argument values\n",
    "* Setting up any other configuration\n",
    "* Calling a run function in lib.rs\n",
    "* Handling the error if run returns an error\n",
    "\n",
    "This pattern is about separating concerns: main.rs handles running the program and lib.rs handles all the logic of the task at hand. Because you can’t test the main function directly, this structure lets you test all of your program’s logic by moving it into functions in lib.rs. The code that remains in main.rs will be small enough to verify its correctness by reading it. Let’s rework our program by following this process."
   ]
  },
  {
   "cell_type": "markdown",
   "metadata": {},
   "source": [
    "see on site.......\n",
    "skip 12.4, 12.5, 12.6"
   ]
  }
 ],
 "metadata": {
  "language_info": {
   "name": "python"
  }
 },
 "nbformat": 4,
 "nbformat_minor": 2
}
