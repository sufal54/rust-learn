{
 "cells": [
  {
   "cell_type": "markdown",
   "metadata": {},
   "source": [
    "***Defining Modules to Control Scope and Privacy***\n",
    "\n",
    "In this section, we’ll talk about modules and other parts of the module system, namely paths, which allow you to name items; the use keyword that brings a path into scope; and the pub keyword to make items public. We’ll also discuss the as keyword, external packages, and the glob operator."
   ]
  },
  {
   "cell_type": "markdown",
   "metadata": {},
   "source": [
    "***Modules Cheat Sheet***\n",
    "\n",
    "Before we get to the details of modules and paths, here we provide a quick reference on how modules, paths, the use keyword, and the pub keyword work in the compiler, and how most developers organize their code. We’ll be going through examples of each of these rules throughout this chapter, but this is a great place to refer to as a reminder of how modules work.\n",
    "\n",
    "* **Start from the crate root**: When compiling a crate, the compiler first looks in the crate root file (usually src/lib.rs for a library crate or src/main.rs for a binary crate) for code to compile.\n",
    "\n",
    "* **Declaring modules**: In the crate root file, you can declare new modules; say you declare a “garden” module with mod garden;. The compiler will look for the module’s code in these places:\n",
    "    * Inline, within curly brackets that replace the semicolon following mod garden\n",
    "    * In the file src/garden.rs\n",
    "    * In the file src/garden/mod.rs\n",
    "\n",
    "* **Declaring submodules**: In any file other than the crate root, you can declare submodules. For example, you might declare mod vegetables; in src/garden.rs. The compiler will look for the submodule’s code within the directory named for the parent module in these places:\n",
    "    * Inline, directly following mod vegetables, within curly brackets instead of the semicolon\n",
    "    * In the file src/garden/vegetables.rs\n",
    "    * In the file src/garden/vegetables/mod.rs\n",
    "\n",
    "* **Paths to code in modules**: Once a module is part of your crate, you can refer to code in that module from anywhere else in that same crate, as long as the privacy rules allow, using the path to the code. For example, an Asparagus type in the garden vegetables module would be found at crate::garden::vegetables::Asparagus.\n",
    "\n",
    "* **Private vs. public**: Code within a module is private from its parent modules by default. To make a module public, declare it with pub mod instead of mod. To make items within a public module public as well, use pub before their declarations.\n",
    "\n",
    "* **The use keyword**: Within a scope, the use keyword creates shortcuts to items to reduce repetition of long paths. In any scope that can refer to crate::garden::vegetables::Asparagus, you can create a shortcut with use crate::garden::vegetables::Asparagus; and from then on you only need to write Asparagus to make use of that type in the scope.\n"
   ]
  },
  {
   "cell_type": "code",
   "execution_count": null,
   "metadata": {},
   "outputs": [],
   "source": [
    "backyard\n",
    "├── Cargo.lock\n",
    "├── Cargo.toml\n",
    "└── src\n",
    "    ├── garden\n",
    "    │   └── vegetables.rs\n",
    "    ├── garden.rs\n",
    "    └── main.rs"
   ]
  },
  {
   "cell_type": "code",
   "execution_count": null,
   "metadata": {},
   "outputs": [],
   "source": [
    "// src/main.rs\n",
    "use crate::garden::vegetables::Asparagus;\n",
    "pub mod garden;\n",
    "fn main() {\n",
    "    let plant = Asparagus {};\n",
    "    println!(\"I'm growing {plant:?}!\");\n",
    "}"
   ]
  },
  {
   "cell_type": "markdown",
   "metadata": {},
   "source": [
    "The pub mod garden; line tells the compiler to include the code it finds in src/garden.rs, which is:\n",
    "\n",
    "Filename: src/garden.rs"
   ]
  },
  {
   "cell_type": "code",
   "execution_count": null,
   "metadata": {},
   "outputs": [],
   "source": [
    "pub mod vegetables;"
   ]
  },
  {
   "cell_type": "markdown",
   "metadata": {},
   "source": [
    "Here, pub mod vegetables; means the code in src/garden/vegetables.rs is included too. That code is:"
   ]
  },
  {
   "cell_type": "code",
   "execution_count": null,
   "metadata": {},
   "outputs": [],
   "source": [
    "#[derive(Debug)]\n",
    "pub struct Asparagus {}"
   ]
  },
  {
   "cell_type": "markdown",
   "metadata": {},
   "source": [
    "***Grouping Related Code in Modules***\n",
    "\n",
    "Modules let us organize code within a crate for readability and easy reuse. Modules also allow us to control the privacy of items because code within a module is private by default. Private items are internal implementation details not available for outside use. We can choose to make modules and the items within them public, which exposes them to allow external code to use and depend on them.\n",
    "\n",
    "As an example, let’s write a library crate that provides the functionality of a restaurant. We’ll define the signatures of functions but leave their bodies empty to concentrate on the organization of the code rather than the implementation of a restaurant.\n",
    "\n",
    "In the restaurant industry, some parts of a restaurant are referred to as front of house and others as back of house. Front of house is where customers are; this encompasses where the hosts seat customers, servers take orders and payment, and bartenders make drinks. Back of house is where the chefs and cooks work in the kitchen, dishwashers clean up, and managers do administrative work.\n",
    "\n",
    "To structure our crate in this way, we can organize its functions into nested modules. Create a new library named restaurant by running cargo new restaurant --lib. Then enter the code in Listing 7-1 into src/lib.rs to define some modules and function signatures; this code is the front of house section\n",
    "\n",
    "Filename: src/lib.rs"
   ]
  },
  {
   "cell_type": "code",
   "execution_count": null,
   "metadata": {},
   "outputs": [],
   "source": [
    "mod front_of_house {\n",
    "    mod hosting {\n",
    "        fn add_to_waitlist() {}\n",
    "\n",
    "        fn seat_at_table() {}\n",
    "    }\n",
    "    mod serving {\n",
    "        fn take_order() {}\n",
    "\n",
    "        fn serve_order() {}\n",
    "\n",
    "        fn take_payment() {}\n",
    "    }\n",
    "}"
   ]
  },
  {
   "cell_type": "markdown",
   "metadata": {},
   "source": [
    "We define a module with the mod keyword followed by the name of the module (in this case, front_of_house). The body of the module then goes inside curly brackets. Inside modules, we can place other modules, as in this case with the modules hosting and serving. Modules can also hold definitions for other items, such as structs, enums, constants, traits, and—as in Listing 7-1—functions.\n",
    "\n",
    "By using modules, we can group related definitions together and name why they’re related. Programmers using this code can navigate the code based on the groups rather than having to read through all the definitions, making it easier to find the definitions relevant to them. Programmers adding new functionality to this code would know where to place the code to keep the program organized.\n",
    "\n",
    "Earlier, we mentioned that src/main.rs and src/lib.rs are called crate roots. The reason for their name is that the contents of either of these two files form a module named crate at the root of the crate’s module structure, known as the module tree."
   ]
  },
  {
   "cell_type": "code",
   "execution_count": null,
   "metadata": {},
   "outputs": [],
   "source": [
    "crate\n",
    " └── front_of_house\n",
    "     ├── hosting\n",
    "     │   ├── add_to_waitlist\n",
    "     │   └── seat_at_table\n",
    "     └── serving\n",
    "         ├── take_order\n",
    "         ├── serve_order\n",
    "         └── take_payment"
   ]
  },
  {
   "cell_type": "markdown",
   "metadata": {},
   "source": [
    "This tree shows how some of the modules nest inside other modules; for example, hosting nests inside front_of_house. The tree also shows that some modules are siblings, meaning they’re defined in the same module; hosting and serving are siblings defined within front_of_house. If module A is contained inside module B, we say that module A is the child of module B and that module B is the parent of module A. Notice that the entire module tree is rooted under the implicit module named crate.\n",
    "\n",
    "The module tree might remind you of the filesystem’s directory tree on your computer; this is a very apt comparison! Just like directories in a filesystem, you use modules to organize your code. And just like files in a directory, we need a way to find our modules."
   ]
  }
 ],
 "metadata": {
  "kernelspec": {
   "display_name": "Rust",
   "language": "rust",
   "name": "rust"
  },
  "language_info": {
   "name": "rust"
  }
 },
 "nbformat": 4,
 "nbformat_minor": 2
}
