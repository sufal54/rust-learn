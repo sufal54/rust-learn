{
 "cells": [
  {
   "cell_type": "markdown",
   "metadata": {},
   "source": [
    "***Storing Lists of Values with Vectors***\n",
    "\n",
    "The first collection type we’ll look at is Vec<T>, also known as a vector. Vectors allow you to store more than one value in a single data structure that puts all the values next to each other in memory. Vectors can only store values of the same type. They are useful when you have a list of items, such as the lines of text in a file or the prices of items in a shopping cart."
   ]
  },
  {
   "cell_type": "code",
   "execution_count": 13,
   "metadata": {
    "vscode": {
     "languageId": "rust"
    }
   },
   "outputs": [],
   "source": [
    "//create new empty vector\n",
    "//with new keyword must be given type\n",
    "// let v = Vec::new(); --> error\n",
    "let mut v: Vec<i32> = Vec::new();\n",
    "v.push(5);\n",
    "v.push(6);\n",
    "v.push(7);\n",
    "v.push(8);\n",
    "//another way\n",
    "let v = vec![1, 2, 3];"
   ]
  },
  {
   "cell_type": "markdown",
   "metadata": {},
   "source": [
    "***Reading Elements of Vectors***\n",
    "\n",
    "There are two ways to reference a value stored in a vector: via indexing or by using the get method. In the following examples, we’ve annotated the types of the values that are returned from these functions for extra clarity."
   ]
  },
  {
   "cell_type": "code",
   "execution_count": null,
   "metadata": {
    "vscode": {
     "languageId": "rust"
    }
   },
   "outputs": [],
   "source": [
    "let v = vec![1, 2, 3, 4, 5];\n",
    "// one way\n",
    "let third: &i32 = &v[2];\n",
    "println!(\"The third element is {third}\");\n",
    "//another way\n",
    "let third: Option<&i32> = v.get(2); // it's return a option\n",
    "match third {\n",
    "    Some(third) => println!(\"The third element is {third}\"),\n",
    "    None => println!(\"There is no third element.\"),\n",
    "}"
   ]
  },
  {
   "cell_type": "code",
   "execution_count": null,
   "metadata": {
    "vscode": {
     "languageId": "rust"
    }
   },
   "outputs": [],
   "source": [
    "let v = vec![1, 2, 3, 4, 5];\n",
    "\n",
    "let does_not_exist = &v[100]; //panic\n",
    "let does_not_exist = v.get(100); //not panics return None option"
   ]
  },
  {
   "cell_type": "code",
   "execution_count": null,
   "metadata": {
    "vscode": {
     "languageId": "rust"
    }
   },
   "outputs": [],
   "source": [
    "let mut v = vec![1, 2, 3, 4, 5];\n",
    "\n",
    "let first = &v[0]; //error\n",
    "\n",
    "v.push(6);\n",
    "\n",
    "println!(\"The first element is: {first}\");\n"
   ]
  },
  {
   "cell_type": "markdown",
   "metadata": {},
   "source": [
    "The code in Listing 8-6 might look like it should work: why should a reference to the first element care about changes at the end of the vector? This error is due to the way vectors work: because vectors put the values next to each other in memory, adding a new element onto the end of the vector might require allocating new memory and copying the old elements to the new space, if there isn’t enough room to put all the elements next to each other where the vector is currently stored. In that case, the reference to the first element would be pointing to deallocated memory. The borrowing rules prevent programs from ending up in that situation."
   ]
  },
  {
   "cell_type": "code",
   "execution_count": null,
   "metadata": {
    "vscode": {
     "languageId": "rust"
    }
   },
   "outputs": [],
   "source": [
    "//Iterating Over Vector\n",
    "let v = vec![100, 32, 57];\n",
    "for i in &v {\n",
    "    println!(\"{i}\");\n",
    "}\n",
    "let mut v = vec![100, 32, 57];\n",
    "for i in &mut v {\n",
    "    *i += 50;\n",
    "}"
   ]
  },
  {
   "cell_type": "markdown",
   "metadata": {},
   "source": [
    "***Using an Enum to Store Multiple Types***\n",
    "\n",
    "Vectors can only store values that are of the same type. This can be inconvenient; there are definitely use cases for needing to store a list of items of different types. Fortunately, the variants of an enum are defined under the same enum type, so when we need one type to represent elements of different types, we can define and use an enum!\n",
    "\n",
    "For example, say we want to get values from a row in a spreadsheet in which some of the columns in the row contain integers, some floating-point numbers, and some strings. We can define an enum whose variants will hold the different value types, and all the enum variants will be considered the same type: that of the enum. Then we can create a vector to hold that enum and so, ultimately, hold different types. We’ve demonstrated this in Listing 8-9."
   ]
  },
  {
   "cell_type": "code",
   "execution_count": null,
   "metadata": {
    "vscode": {
     "languageId": "rust"
    }
   },
   "outputs": [],
   "source": [
    "enum SpreadsheetCell {\n",
    "    Int(i32),\n",
    "    Float(f64),\n",
    "    Text(String),\n",
    "}\n",
    "\n",
    "let row = vec![\n",
    "    SpreadsheetCell::Int(3),\n",
    "    SpreadsheetCell::Text(String::from(\"blue\")),\n",
    "    SpreadsheetCell::Float(10.12),\n",
    "];\n"
   ]
  },
  {
   "cell_type": "code",
   "execution_count": null,
   "metadata": {
    "vscode": {
     "languageId": "rust"
    }
   },
   "outputs": [],
   "source": [
    "{\n",
    "    let v = vec![1, 2, 3, 4];\n",
    "\n",
    "    // do stuff with v\n",
    "} // <- v goes out of scope and is freed here"
   ]
  }
 ],
 "metadata": {
  "kernelspec": {
   "display_name": "Rust",
   "language": "rust",
   "name": "rust"
  },
  "language_info": {
   "codemirror_mode": "rust",
   "file_extension": ".rs",
   "mimetype": "text/rust",
   "name": "Rust",
   "pygment_lexer": "rust",
   "version": ""
  }
 },
 "nbformat": 4,
 "nbformat_minor": 2
}
