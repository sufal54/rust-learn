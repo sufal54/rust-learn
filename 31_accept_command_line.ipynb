{
 "cells": [
  {
   "cell_type": "markdown",
   "metadata": {},
   "source": [
    "***Reading the Argument Values***\n",
    "\n",
    "To enable minigrep to read the values of command line arguments we pass to it, we’ll need the std::env::args function provided in Rust’s standard library. This function returns an iterator of the command line arguments passed to minigrep. We’ll cover iterators fully in Chapter 13. For now, you only need to know two details about iterators: iterators produce a series of values, and we can call the collect method on an iterator to turn it into a collection, such as a vector, that contains all the elements the iterator produces.\n",
    "\n",
    "The code in Listing 12-1 allows your minigrep program to read any command line arguments passed to it, and then collect the values into a vector.\n",
    "Filename: src/main.rs"
   ]
  },
  {
   "cell_type": "code",
   "execution_count": null,
   "metadata": {},
   "outputs": [],
   "source": [
    "use std::env;\n",
    "\n",
    "fn main() {\n",
    "    let args: Vec<String> = env::args().collect();\n",
    "    dbg!(args);\n",
    "}"
   ]
  },
  {
   "cell_type": "markdown",
   "metadata": {},
   "source": [
    "***The args Function and Invalid Unicode***\n",
    "\n",
    "Note that std::env::args will panic if any argument contains invalid Unicode. If your program needs to accept arguments containing invalid Unicode, use std::env::args_os instead. That function returns an iterator that produces OsString values instead of String values. We’ve chosen to use std::env::args here for simplicity because OsString values differ per platform and are more complex to work with than String values.\n"
   ]
  },
  {
   "cell_type": "markdown",
   "metadata": {},
   "source": [
    "***Saving the Argument Values in Variables***\n",
    "\n",
    "The program is currently able to access the values specified as command line arguments. Now we need to save the values of the two arguments in variables so we can use the values throughout the rest of the program. We do that in Listing 12-2.\n",
    "Filename: src/main.rs"
   ]
  },
  {
   "cell_type": "code",
   "execution_count": null,
   "metadata": {},
   "outputs": [],
   "source": [
    "use std::env;\n",
    "\n",
    "fn main() {\n",
    "    let args: Vec<String> = env::args().collect();\n",
    "\n",
    "    let query = &args[1];\n",
    "    let file_path = &args[2];\n",
    "\n",
    "    println!(\"Searching for {query}\");\n",
    "    println!(\"In file {file_path}\");\n",
    "}"
   ]
  }
 ],
 "metadata": {
  "kernelspec": {
   "display_name": "Rust",
   "language": "rust",
   "name": "rust"
  },
  "language_info": {
   "name": "rust"
  }
 },
 "nbformat": 4,
 "nbformat_minor": 2
}
